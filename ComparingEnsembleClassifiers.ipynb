{
  "nbformat": 4,
  "nbformat_minor": 0,
  "metadata": {
    "colab": {
      "name": "Trab1_Andre_Machado.ipynb",
      "provenance": [],
      "collapsed_sections": [
        "ekniOpC8tp-A"
      ],
      "toc_visible": true
    },
    "kernelspec": {
      "name": "python3",
      "display_name": "Python 3"
    },
    "language_info": {
      "name": "python"
    }
  },
  "cells": [
    {
      "cell_type": "markdown",
      "metadata": {
        "id": "uPAYZcJDtVXz"
      },
      "source": [
        "# Bibliotecas"
      ]
    },
    {
      "cell_type": "code",
      "metadata": {
        "colab": {
          "base_uri": "https://localhost:8080/"
        },
        "id": "BdapHowhtP11",
        "outputId": "4e678663-0ca2-47ca-d85f-3cfdb4310a89"
      },
      "source": [
        "import numpy as np\n",
        "from scipy import stats\n",
        "from sklearn import datasets\n",
        "from sklearn.model_selection import cross_val_predict \n",
        "from sklearn.metrics import confusion_matrix, plot_confusion_matrix\n",
        "import matplotlib.pyplot as plt\n",
        "from sklearn.preprocessing import StandardScaler\n",
        "from sklearn.pipeline import Pipeline, make_pipeline\n",
        "from sklearn.model_selection import cross_val_score\n",
        "from sklearn.model_selection import RepeatedStratifiedKFold\n",
        "from sklearn.model_selection import GridSearchCV\n",
        "from sklearn.ensemble import BaggingClassifier\n",
        "from sklearn.ensemble import AdaBoostClassifier\n",
        "from sklearn.ensemble import RandomForestClassifier\n",
        "import pandas as pd\n",
        "from sklearn.utils import resample\n",
        "from collections import Counter\n",
        "from sklearn.ensemble import StackingClassifier\n",
        "\n",
        "from sklearn.model_selection import train_test_split\n",
        "from sklearn.base import BaseEstimator, clone\n",
        "from imblearn.under_sampling import RandomUnderSampler\n",
        "from sklearn.ensemble import VotingClassifier\n",
        "from sklearn.metrics import classification_report\n",
        "\n",
        "from sklearn.tree import DecisionTreeClassifier\n",
        "from sklearn.naive_bayes import GaussianNB\n",
        "from sklearn.neighbors import KNeighborsClassifier"
      ],
      "execution_count": 1,
      "outputs": [
        {
          "output_type": "stream",
          "text": [
            "/usr/local/lib/python3.7/dist-packages/sklearn/externals/six.py:31: FutureWarning: The module is deprecated in version 0.21 and will be removed in version 0.23 since we've dropped support for Python 2.7. Please rely on the official version of six (https://pypi.org/project/six/).\n",
            "  \"(https://pypi.org/project/six/).\", FutureWarning)\n",
            "/usr/local/lib/python3.7/dist-packages/sklearn/utils/deprecation.py:144: FutureWarning: The sklearn.neighbors.base module is  deprecated in version 0.22 and will be removed in version 0.24. The corresponding classes / functions should instead be imported from sklearn.neighbors. Anything that cannot be imported from sklearn.neighbors is now part of the private API.\n",
            "  warnings.warn(message, FutureWarning)\n"
          ],
          "name": "stderr"
        }
      ]
    },
    {
      "cell_type": "markdown",
      "metadata": {
        "id": "vFiFDIHFdzjc"
      },
      "source": [
        "# Classe - Heterogeneous Polling"
      ]
    },
    {
      "cell_type": "code",
      "metadata": {
        "id": "c0wz-UGn7UHH"
      },
      "source": [
        "def mostCommon(estimatorsPredict):\n",
        "  \n",
        "    return [Counter(col).most_common() for col in zip(*estimatorsPredict)]\n",
        "  \n",
        "\n",
        "def votingClass(predMatrix, y_train):\n",
        "\n",
        "    saida = np.array([])\n",
        "    \n",
        "    valuesFrequency = mostCommon(predMatrix)\n",
        "    for j in range(predMatrix.shape[1]):\n",
        "      if len(valuesFrequency[j])>1 and valuesFrequency[j][0][1] == valuesFrequency[j][1][1]:\n",
        "        listaElementsTie = np.array([])\n",
        "        for k in range(len(valuesFrequency[j])-1):\n",
        "          if valuesFrequency[j][k][1] == valuesFrequency[j][k+1][1]:\n",
        "            if k == 0 :\n",
        "              listaElementsTie = np.append(listaElementsTie, valuesFrequency[j][k][0])\n",
        "              listaElementsTie = np.append(listaElementsTie, valuesFrequency[j][k+1][0])\n",
        "            else:\n",
        "              listaElementsTie = np.append(listaElementsTie, valuesFrequency[j][k+1][0])\n",
        "        # Retorna a classe mais votada mais frequente na base de treino\n",
        "        saida = np.append(saida, compareFrequencyValues(y_train, listaElementsTie))\n",
        "      else:\n",
        "        # Retorna a classe mais votada\n",
        "        saida = np.append(saida, valuesFrequency[j][0][0])\n",
        "    return saida\n",
        "\n",
        "def compareFrequencyValues(y_train, elementsTie):\n",
        "      indexElements = []\n",
        "      orderArray = getMostfrequentValues(y_train)\n",
        "      listValues = list(orderArray)\n",
        "      for i in range(len(elementsTie)):\n",
        "        indexElements.append(listValues.index(elementsTie[i]))\n",
        "      mostFreq = min(indexElements)\n",
        "      return orderArray[mostFreq]\n",
        "\n",
        "def getMostfrequentValues(a):\n",
        "\n",
        "    from collections import Counter\n",
        "    mostfrequentValues = np.array([])\n",
        "    b = Counter(a)\n",
        "    arrayValoresFreq = b.most_common()\n",
        "    for i in range(len(b)):\n",
        "      mostfrequentValues = np.append(mostfrequentValues,arrayValoresFreq[i][0])\n",
        "    return mostfrequentValues   \n",
        "\n",
        "class HeterogeneousClassifier(BaseEstimator):\n",
        "\n",
        "  estimatorBase = list()\n",
        "  estimatorBase.append(KNeighborsClassifier(n_neighbors=1))\n",
        "  estimatorBase.append(DecisionTreeClassifier())\n",
        "  estimatorBase.append(GaussianNB())\n",
        "\n",
        "  def __init__(self, base_estimator = estimatorBase,n_samples=None):\n",
        "    \n",
        "    self.base_estimator = base_estimator\n",
        "    self.n_samples = n_samples\n",
        "    self.ord = []\n",
        "    self.estimators = []\n",
        "    self.KNNclassifier = KNeighborsClassifier(n_neighbors=1)\n",
        "    self.DTclassifier = DecisionTreeClassifier()\n",
        "    self.NBclassifier = GaussianNB()\n",
        " \n",
        "\n",
        "  def fit(self, X, y):\n",
        "\n",
        "    self.ord = y\n",
        "    for i in range(self.n_samples):\n",
        "      if self.n_samples == 1:\n",
        "        self.estimators.append(self.KNNclassifier.fit(X, y))\n",
        "        self.estimators.append(self.DTclassifier.fit(X, y))\n",
        "        self.estimators.append(self.NBclassifier.fit(X, y))\n",
        "      else:\n",
        "        X, y = resample(X,y, replace=True)\n",
        "        self.estimators.append(self.KNNclassifier.fit(X, y))\n",
        "        self.estimators.append(self.DTclassifier.fit(X, y))\n",
        "        self.estimators.append(self.NBclassifier.fit(X, y))\n",
        "    \n",
        "    return self.estimators\n",
        "\n",
        "\n",
        "  def predict(self, X):\n",
        "\n",
        "      y_pred = []\n",
        "      for i in range(self.n_samples):\n",
        "        y_knn = np.array([self.estimators[0+(3*i)].predict(X)])\n",
        "        y_DTree = np.array([self.estimators[1+(3*i)].predict(X)])\n",
        "        y_naive = np.array([self.estimators[2+(3*i)].predict(X)])\n",
        "        if i == 0:\n",
        "          y_pred = np.vstack((y_knn, y_DTree, y_naive))\n",
        "        else:\n",
        "          y_pred = np.vstack((y_pred, y_knn, y_DTree, y_naive))\n",
        "      y_predVot = votingClass(y_pred,self.ord)\n",
        "      \n",
        "      return y_predVot\n"
      ],
      "execution_count": 2,
      "outputs": []
    },
    {
      "cell_type": "markdown",
      "metadata": {
        "id": "bLEpY3QVxd1Q"
      },
      "source": [
        "Os resultados de cada classificador devem ser apresentados numa tabela contendo a média das acurácias obtidas em cada fold do ciclo externo, o desvio padrão e o intervalo de confiança a 95% de significância dos resultados, e também através do boxplot dos resultados de cada classificador em cada fold."
      ]
    },
    {
      "cell_type": "markdown",
      "metadata": {
        "id": "yN6rHK6mt1_p"
      },
      "source": [
        "# Functions Grid and Results\n",
        "\n",
        "Os dados utilizados no conjunto de treino em cada rodada de teste são padronizados (normalizados o com z-score). Os valores de padronização obtidos nos dados de treino são utilizados para padronizar os dados do respectivo conjunto de teste.\n",
        "O procedimento experimental de treinamento, validação e teste é realizado através de 3 rodadas de ciclos aninhados de validação e teste, com o ciclo interno de validação contendo 4 folds e o externo de teste com 10 folds. A busca em grade (grid search) do ciclo interno considera os os valores de hiperparâmetros definidos para cada técnica de aprendizado."
      ]
    },
    {
      "cell_type": "code",
      "metadata": {
        "id": "VH1qYN6e2hbX"
      },
      "source": [
        "def GridTestModel(dataBase, model, grid):\n",
        "\n",
        "  # Data Base\n",
        "  X = dataBase.data\n",
        "  y = dataBase.target\n",
        "\n",
        "  # Z-score\n",
        "  scalar = StandardScaler()\n",
        "\n",
        "  # Pipeline\n",
        "  pipeline = Pipeline([('transformer', scalar), ('estimator', model)])\n",
        "\n",
        "  # configure the cross-validation procedure\n",
        "  rkf = RepeatedStratifiedKFold(n_splits=10, n_repeats=3, random_state=36851234)\n",
        "\n",
        "  # configure Grid Search\n",
        "  gs = GridSearchCV(estimator=pipeline, param_grid = grid, \n",
        "                    scoring='accuracy', cv = 4, verbose=0, refit=True)\n",
        "\n",
        "  # Results\n",
        "  scores = cross_val_score(gs, X, y, scoring='accuracy', \n",
        "                          cv = rkf)\n",
        "\n",
        "  print('Done')\n",
        "  return scores"
      ],
      "execution_count": 3,
      "outputs": []
    },
    {
      "cell_type": "code",
      "metadata": {
        "id": "2FVMc2GiAAOr"
      },
      "source": [
        "def getResults(scores):\n",
        "  print (scores)\n",
        "\n",
        "  mean = scores.mean()\n",
        "  std = scores.std()\n",
        "  inf, sup = stats.norm.interval(0.95, loc=mean, \n",
        "                                scale=std/np.sqrt(len(scores)))\n",
        "\n",
        "  print(\"\\nMean Accuracy: %0.3f Standard Deviation: %0.3f\" % (mean, std))\n",
        "  print (\"Accuracy Confidence Interval (95%%): (%0.2f, %0.2f)\\n\" % \n",
        "        (inf, sup)) \n",
        "  return mean, std, inf, sup"
      ],
      "execution_count": 4,
      "outputs": []
    },
    {
      "cell_type": "code",
      "metadata": {
        "id": "yVLyPgx_eqgZ"
      },
      "source": [
        "dfResultClassifier = pd.DataFrame(columns=['Métodos', 'Média', 'STD', 'Limite Inferior', 'Limite Superior'])\n",
        "dfResultClassifier['Métodos'] = ['Bagging', 'AdaBoost', 'RandomForest', 'HeterogeneousPooling']"
      ],
      "execution_count": 5,
      "outputs": []
    },
    {
      "cell_type": "markdown",
      "metadata": {
        "id": "ekniOpC8tp-A"
      },
      "source": [
        "# Bases de Dados - Digits"
      ]
    },
    {
      "cell_type": "markdown",
      "metadata": {
        "id": "ntKIOC7hwF6O"
      },
      "source": [
        "## Classificadores"
      ]
    },
    {
      "cell_type": "markdown",
      "metadata": {
        "id": "BEmc1YEuwKHk"
      },
      "source": [
        "### Bagging"
      ]
    },
    {
      "cell_type": "code",
      "metadata": {
        "id": "6Puhy_x4Od3B",
        "colab": {
          "base_uri": "https://localhost:8080/",
          "height": 35
        },
        "outputId": "aa4a2e55-972c-4043-fb82-0bb52399782a"
      },
      "source": [
        "# Define DataBase\n",
        "dataBase = datasets.load_digits()\n",
        "dataBase.DESCR[4:18]"
      ],
      "execution_count": 6,
      "outputs": [
        {
          "output_type": "execute_result",
          "data": {
            "application/vnd.google.colaboratory.intrinsic+json": {
              "type": "string"
            },
            "text/plain": [
              "'digits_dataset'"
            ]
          },
          "metadata": {
            "tags": []
          },
          "execution_count": 6
        }
      ]
    },
    {
      "cell_type": "code",
      "metadata": {
        "id": "DeSQKKYIwIm7"
      },
      "source": [
        "# define the model\n",
        "bagging = BaggingClassifier()"
      ],
      "execution_count": 7,
      "outputs": []
    },
    {
      "cell_type": "code",
      "metadata": {
        "colab": {
          "base_uri": "https://localhost:8080/"
        },
        "id": "q8W01LVK5NsG",
        "outputId": "360b7fc5-a66d-4066-9f53-072ad261e84e"
      },
      "source": [
        "grid = {'estimator__n_estimators': [10, 25, 50, 100]}\n",
        "model = bagging\n",
        "print('Model Evaluate... BaggingClassifier')\n",
        "bagScores = GridTestModel(dataBase, model, grid)"
      ],
      "execution_count": 8,
      "outputs": [
        {
          "output_type": "stream",
          "text": [
            "Model Evaluate... BaggingClassifier\n",
            "Done\n"
          ],
          "name": "stdout"
        }
      ]
    },
    {
      "cell_type": "code",
      "metadata": {
        "colab": {
          "base_uri": "https://localhost:8080/"
        },
        "id": "N4bX7tA6xBoG",
        "outputId": "b3e4cdb3-903d-41e4-8d0f-199039e62773"
      },
      "source": [
        "# Resultados\n",
        "print('****** Resultados ******\\n')\n",
        "print('Base de Dados: ', dataBase.DESCR[4:18])\n",
        "print('Modelo - ', str(model)[0:17], '\\n')\n",
        "bag_mean, bag_std, bag_inf, bag_sup = getResults(bagScores)\n",
        "# dfResultClassifier.iloc[0] = ['Baggind', bag_mean, bag_std, bag_inf, bag_sup]\n",
        "# dfResultClassifier"
      ],
      "execution_count": 9,
      "outputs": [
        {
          "output_type": "stream",
          "text": [
            "****** Resultados ******\n",
            "\n",
            "Base de Dados:  digits_dataset\n",
            "Modelo -  BaggingClassifier \n",
            "\n",
            "[0.95       0.96111111 0.93888889 0.97222222 0.93333333 0.95\n",
            " 0.95       0.96089385 0.96089385 0.97765363 0.95       0.96111111\n",
            " 0.96111111 0.94444444 0.96111111 0.97222222 0.95       0.94413408\n",
            " 0.94972067 0.94972067 0.95       0.93888889 0.94444444 0.94444444\n",
            " 0.92777778 0.97222222 0.96111111 0.97765363 0.93296089 0.96089385]\n",
            "\n",
            "Mean Accuracy: 0.954 Standard Deviation: 0.013\n",
            "Accuracy Confidence Interval (95%): (0.95, 0.96)\n",
            "\n"
          ],
          "name": "stdout"
        }
      ]
    },
    {
      "cell_type": "code",
      "metadata": {
        "colab": {
          "base_uri": "https://localhost:8080/",
          "height": 173
        },
        "id": "ri2rU2xzh_LG",
        "outputId": "015a5042-b42e-4ecc-ae6b-cceb9a5e71a0"
      },
      "source": [
        "dfResultClassifier.iloc[0] = ['Baggind', bag_mean, bag_std, bag_inf, bag_sup]\n",
        "dfResultClassifier"
      ],
      "execution_count": 10,
      "outputs": [
        {
          "output_type": "execute_result",
          "data": {
            "text/html": [
              "<div>\n",
              "<style scoped>\n",
              "    .dataframe tbody tr th:only-of-type {\n",
              "        vertical-align: middle;\n",
              "    }\n",
              "\n",
              "    .dataframe tbody tr th {\n",
              "        vertical-align: top;\n",
              "    }\n",
              "\n",
              "    .dataframe thead th {\n",
              "        text-align: right;\n",
              "    }\n",
              "</style>\n",
              "<table border=\"1\" class=\"dataframe\">\n",
              "  <thead>\n",
              "    <tr style=\"text-align: right;\">\n",
              "      <th></th>\n",
              "      <th>Métodos</th>\n",
              "      <th>Média</th>\n",
              "      <th>STD</th>\n",
              "      <th>Limite Inferior</th>\n",
              "      <th>Limite Superior</th>\n",
              "    </tr>\n",
              "  </thead>\n",
              "  <tbody>\n",
              "    <tr>\n",
              "      <th>0</th>\n",
              "      <td>Baggind</td>\n",
              "      <td>0.953632</td>\n",
              "      <td>0.0129415</td>\n",
              "      <td>0.949001</td>\n",
              "      <td>0.958263</td>\n",
              "    </tr>\n",
              "    <tr>\n",
              "      <th>1</th>\n",
              "      <td>AdaBoost</td>\n",
              "      <td>NaN</td>\n",
              "      <td>NaN</td>\n",
              "      <td>NaN</td>\n",
              "      <td>NaN</td>\n",
              "    </tr>\n",
              "    <tr>\n",
              "      <th>2</th>\n",
              "      <td>RandomForest</td>\n",
              "      <td>NaN</td>\n",
              "      <td>NaN</td>\n",
              "      <td>NaN</td>\n",
              "      <td>NaN</td>\n",
              "    </tr>\n",
              "    <tr>\n",
              "      <th>3</th>\n",
              "      <td>HeterogeneousPooling</td>\n",
              "      <td>NaN</td>\n",
              "      <td>NaN</td>\n",
              "      <td>NaN</td>\n",
              "      <td>NaN</td>\n",
              "    </tr>\n",
              "  </tbody>\n",
              "</table>\n",
              "</div>"
            ],
            "text/plain": [
              "                Métodos     Média        STD Limite Inferior Limite Superior\n",
              "0               Baggind  0.953632  0.0129415        0.949001        0.958263\n",
              "1              AdaBoost       NaN        NaN             NaN             NaN\n",
              "2          RandomForest       NaN        NaN             NaN             NaN\n",
              "3  HeterogeneousPooling       NaN        NaN             NaN             NaN"
            ]
          },
          "metadata": {
            "tags": []
          },
          "execution_count": 10
        }
      ]
    },
    {
      "cell_type": "markdown",
      "metadata": {
        "id": "N6EWhVWFwRpT"
      },
      "source": [
        "### AdaBoost"
      ]
    },
    {
      "cell_type": "code",
      "metadata": {
        "colab": {
          "base_uri": "https://localhost:8080/",
          "height": 35
        },
        "id": "JJ_E4ozwIiRA",
        "outputId": "eff763fe-e407-4fcb-b37a-915a496338aa"
      },
      "source": [
        "# Define DataBase\n",
        "dataBase = datasets.load_digits()\n",
        "dataBase.DESCR[4:18]"
      ],
      "execution_count": 11,
      "outputs": [
        {
          "output_type": "execute_result",
          "data": {
            "application/vnd.google.colaboratory.intrinsic+json": {
              "type": "string"
            },
            "text/plain": [
              "'digits_dataset'"
            ]
          },
          "metadata": {
            "tags": []
          },
          "execution_count": 11
        }
      ]
    },
    {
      "cell_type": "code",
      "metadata": {
        "id": "xee9LpujwWna"
      },
      "source": [
        "# define the Model\n",
        "adaBoost = AdaBoostClassifier()"
      ],
      "execution_count": 12,
      "outputs": []
    },
    {
      "cell_type": "code",
      "metadata": {
        "colab": {
          "base_uri": "https://localhost:8080/"
        },
        "id": "ScDdU2bU_tcr",
        "outputId": "e202c2be-c76c-419e-c90c-4bf65306db59"
      },
      "source": [
        "# Z-score, Train, Test, gridSearch, CrossValidation\n",
        "grid = {'estimator__n_estimators': [10, 25, 50, 100]}\n",
        "model = adaBoost\n",
        "print('Model Evaluate... AdaBoostClassifier')\n",
        "adaScores = GridTestModel(dataBase, model, grid)"
      ],
      "execution_count": 13,
      "outputs": [
        {
          "output_type": "stream",
          "text": [
            "Model Evaluate... AdaBoostClassifier\n",
            "Done\n"
          ],
          "name": "stdout"
        }
      ]
    },
    {
      "cell_type": "code",
      "metadata": {
        "colab": {
          "base_uri": "https://localhost:8080/"
        },
        "id": "vRi3si1LAfm-",
        "outputId": "50683e1f-ea71-4a2d-f11a-61dacd1b6f7c"
      },
      "source": [
        "# Resultados\n",
        "print('****** Resultados ******\\n')\n",
        "print('Base de Dados: ', dataBase.DESCR[4:18])\n",
        "print('Modelo - ', str(model)[0:18], '\\n')\n",
        "ada_mean, ada_std, ada_inf, ada_sup = getResults(adaScores)"
      ],
      "execution_count": 14,
      "outputs": [
        {
          "output_type": "stream",
          "text": [
            "****** Resultados ******\n",
            "\n",
            "Base de Dados:  digits_dataset\n",
            "Modelo -  AdaBoostClassifier \n",
            "\n",
            "[0.26666667 0.26111111 0.26666667 0.34444444 0.25555556 0.28333333\n",
            " 0.27222222 0.26256983 0.24022346 0.25139665 0.28333333 0.25555556\n",
            " 0.24444444 0.26111111 0.26666667 0.27222222 0.27222222 0.23463687\n",
            " 0.26256983 0.29050279 0.26666667 0.25       0.26111111 0.32222222\n",
            " 0.30555556 0.27222222 0.27222222 0.26815642 0.27374302 0.25698324]\n",
            "\n",
            "Mean Accuracy: 0.270 Standard Deviation: 0.022\n",
            "Accuracy Confidence Interval (95%): (0.26, 0.28)\n",
            "\n"
          ],
          "name": "stdout"
        }
      ]
    },
    {
      "cell_type": "code",
      "metadata": {
        "colab": {
          "base_uri": "https://localhost:8080/",
          "height": 173
        },
        "id": "exLKs0qYkcY8",
        "outputId": "c56470b9-12a9-4cae-8fa3-7ed697e79374"
      },
      "source": [
        "dfResultClassifier.iloc[1] = ['Adaboost', ada_mean, ada_std, ada_inf, ada_sup]\n",
        "dfResultClassifier"
      ],
      "execution_count": 15,
      "outputs": [
        {
          "output_type": "execute_result",
          "data": {
            "text/html": [
              "<div>\n",
              "<style scoped>\n",
              "    .dataframe tbody tr th:only-of-type {\n",
              "        vertical-align: middle;\n",
              "    }\n",
              "\n",
              "    .dataframe tbody tr th {\n",
              "        vertical-align: top;\n",
              "    }\n",
              "\n",
              "    .dataframe thead th {\n",
              "        text-align: right;\n",
              "    }\n",
              "</style>\n",
              "<table border=\"1\" class=\"dataframe\">\n",
              "  <thead>\n",
              "    <tr style=\"text-align: right;\">\n",
              "      <th></th>\n",
              "      <th>Métodos</th>\n",
              "      <th>Média</th>\n",
              "      <th>STD</th>\n",
              "      <th>Limite Inferior</th>\n",
              "      <th>Limite Superior</th>\n",
              "    </tr>\n",
              "  </thead>\n",
              "  <tbody>\n",
              "    <tr>\n",
              "      <th>0</th>\n",
              "      <td>Baggind</td>\n",
              "      <td>0.953632</td>\n",
              "      <td>0.0129415</td>\n",
              "      <td>0.949001</td>\n",
              "      <td>0.958263</td>\n",
              "    </tr>\n",
              "    <tr>\n",
              "      <th>1</th>\n",
              "      <td>Adaboost</td>\n",
              "      <td>0.269878</td>\n",
              "      <td>0.0222605</td>\n",
              "      <td>0.261912</td>\n",
              "      <td>0.277844</td>\n",
              "    </tr>\n",
              "    <tr>\n",
              "      <th>2</th>\n",
              "      <td>RandomForest</td>\n",
              "      <td>NaN</td>\n",
              "      <td>NaN</td>\n",
              "      <td>NaN</td>\n",
              "      <td>NaN</td>\n",
              "    </tr>\n",
              "    <tr>\n",
              "      <th>3</th>\n",
              "      <td>HeterogeneousPooling</td>\n",
              "      <td>NaN</td>\n",
              "      <td>NaN</td>\n",
              "      <td>NaN</td>\n",
              "      <td>NaN</td>\n",
              "    </tr>\n",
              "  </tbody>\n",
              "</table>\n",
              "</div>"
            ],
            "text/plain": [
              "                Métodos     Média        STD Limite Inferior Limite Superior\n",
              "0               Baggind  0.953632  0.0129415        0.949001        0.958263\n",
              "1              Adaboost  0.269878  0.0222605        0.261912        0.277844\n",
              "2          RandomForest       NaN        NaN             NaN             NaN\n",
              "3  HeterogeneousPooling       NaN        NaN             NaN             NaN"
            ]
          },
          "metadata": {
            "tags": []
          },
          "execution_count": 15
        }
      ]
    },
    {
      "cell_type": "markdown",
      "metadata": {
        "id": "U_kwE3yfwazd"
      },
      "source": [
        "### RandomForest"
      ]
    },
    {
      "cell_type": "code",
      "metadata": {
        "colab": {
          "base_uri": "https://localhost:8080/",
          "height": 35
        },
        "id": "0s7VHs95OfrJ",
        "outputId": "a2e769b8-3f0d-4c73-a44c-b314540e899a"
      },
      "source": [
        "# Define DataBase\n",
        "dataBase = datasets.load_digits()\n",
        "dataBase.DESCR[4:18]"
      ],
      "execution_count": 16,
      "outputs": [
        {
          "output_type": "execute_result",
          "data": {
            "application/vnd.google.colaboratory.intrinsic+json": {
              "type": "string"
            },
            "text/plain": [
              "'digits_dataset'"
            ]
          },
          "metadata": {
            "tags": []
          },
          "execution_count": 16
        }
      ]
    },
    {
      "cell_type": "code",
      "metadata": {
        "id": "hn3B5aYowcDq"
      },
      "source": [
        "# define the Model\n",
        "randomForest = RandomForestClassifier()"
      ],
      "execution_count": 17,
      "outputs": []
    },
    {
      "cell_type": "code",
      "metadata": {
        "colab": {
          "base_uri": "https://localhost:8080/"
        },
        "id": "kYGTknzhFBHd",
        "outputId": "52f1abac-027f-475f-db81-2d961f6d068d"
      },
      "source": [
        "# Model Evaluate\n",
        "grid = {'estimator__n_estimators': [10, 25, 50, 100]}\n",
        "model = randomForest\n",
        "print('Model Evaluate... RandomForestClassifier')\n",
        "rfScores = GridTestModel(dataBase, model, grid)"
      ],
      "execution_count": 18,
      "outputs": [
        {
          "output_type": "stream",
          "text": [
            "Model Evaluate... RandomForestClassifier\n",
            "Done\n"
          ],
          "name": "stdout"
        }
      ]
    },
    {
      "cell_type": "code",
      "metadata": {
        "colab": {
          "base_uri": "https://localhost:8080/"
        },
        "id": "6Zj5tO5dFQ9r",
        "outputId": "2a139780-b31f-462f-8f4f-159082c451b8"
      },
      "source": [
        "# Resultados\n",
        "print('****** Resultados ******\\n')\n",
        "print('Base de Dados: ', dataBase.DESCR[4:18])\n",
        "print('Modelo - ', str(model)[0:22], '\\n')\n",
        "rf_mean, rf_std, rf_inf, rf_sup = getResults(rfScores)"
      ],
      "execution_count": 19,
      "outputs": [
        {
          "output_type": "stream",
          "text": [
            "****** Resultados ******\n",
            "\n",
            "Base de Dados:  digits_dataset\n",
            "Modelo -  RandomForestClassifier \n",
            "\n",
            "[0.98333333 0.98333333 0.96666667 0.96666667 0.97777778 0.98888889\n",
            " 0.96666667 0.96648045 0.96089385 0.98882682 0.97777778 0.98333333\n",
            " 0.97777778 0.97222222 0.98888889 0.99444444 0.97222222 0.97206704\n",
            " 0.95530726 0.97765363 0.96666667 0.96111111 0.96666667 0.98333333\n",
            " 0.98333333 0.97777778 0.98888889 0.98324022 0.97206704 0.97206704]\n",
            "\n",
            "Mean Accuracy: 0.976 Standard Deviation: 0.010\n",
            "Accuracy Confidence Interval (95%): (0.97, 0.98)\n",
            "\n"
          ],
          "name": "stdout"
        }
      ]
    },
    {
      "cell_type": "code",
      "metadata": {
        "id": "jdEGBEjdlrNe",
        "colab": {
          "base_uri": "https://localhost:8080/",
          "height": 173
        },
        "outputId": "79382505-d282-46ea-c7e7-e83bd32a1fb4"
      },
      "source": [
        "dfResultClassifier.iloc[2] = ['RandomForest', rf_mean, rf_std, rf_inf, rf_sup]\n",
        "dfResultClassifier"
      ],
      "execution_count": 20,
      "outputs": [
        {
          "output_type": "execute_result",
          "data": {
            "text/html": [
              "<div>\n",
              "<style scoped>\n",
              "    .dataframe tbody tr th:only-of-type {\n",
              "        vertical-align: middle;\n",
              "    }\n",
              "\n",
              "    .dataframe tbody tr th {\n",
              "        vertical-align: top;\n",
              "    }\n",
              "\n",
              "    .dataframe thead th {\n",
              "        text-align: right;\n",
              "    }\n",
              "</style>\n",
              "<table border=\"1\" class=\"dataframe\">\n",
              "  <thead>\n",
              "    <tr style=\"text-align: right;\">\n",
              "      <th></th>\n",
              "      <th>Métodos</th>\n",
              "      <th>Média</th>\n",
              "      <th>STD</th>\n",
              "      <th>Limite Inferior</th>\n",
              "      <th>Limite Superior</th>\n",
              "    </tr>\n",
              "  </thead>\n",
              "  <tbody>\n",
              "    <tr>\n",
              "      <th>0</th>\n",
              "      <td>Baggind</td>\n",
              "      <td>0.953632</td>\n",
              "      <td>0.0129415</td>\n",
              "      <td>0.949001</td>\n",
              "      <td>0.958263</td>\n",
              "    </tr>\n",
              "    <tr>\n",
              "      <th>1</th>\n",
              "      <td>Adaboost</td>\n",
              "      <td>0.269878</td>\n",
              "      <td>0.0222605</td>\n",
              "      <td>0.261912</td>\n",
              "      <td>0.277844</td>\n",
              "    </tr>\n",
              "    <tr>\n",
              "      <th>2</th>\n",
              "      <td>RandomForest</td>\n",
              "      <td>0.975879</td>\n",
              "      <td>0.00969284</td>\n",
              "      <td>0.972411</td>\n",
              "      <td>0.979348</td>\n",
              "    </tr>\n",
              "    <tr>\n",
              "      <th>3</th>\n",
              "      <td>HeterogeneousPooling</td>\n",
              "      <td>NaN</td>\n",
              "      <td>NaN</td>\n",
              "      <td>NaN</td>\n",
              "      <td>NaN</td>\n",
              "    </tr>\n",
              "  </tbody>\n",
              "</table>\n",
              "</div>"
            ],
            "text/plain": [
              "                Métodos     Média         STD Limite Inferior Limite Superior\n",
              "0               Baggind  0.953632   0.0129415        0.949001        0.958263\n",
              "1              Adaboost  0.269878   0.0222605        0.261912        0.277844\n",
              "2          RandomForest  0.975879  0.00969284        0.972411        0.979348\n",
              "3  HeterogeneousPooling       NaN         NaN             NaN             NaN"
            ]
          },
          "metadata": {
            "tags": []
          },
          "execution_count": 20
        }
      ]
    },
    {
      "cell_type": "markdown",
      "metadata": {
        "id": "zpQdhlN3wzju"
      },
      "source": [
        "### HeterogeneousPooling"
      ]
    },
    {
      "cell_type": "code",
      "metadata": {
        "id": "t50ondIv-ggv",
        "colab": {
          "base_uri": "https://localhost:8080/",
          "height": 35
        },
        "outputId": "4ef98e39-7f90-4a52-defc-59e8570294f6"
      },
      "source": [
        "# Define DataBase\n",
        "dataBase = datasets.load_digits()\n",
        "dataBase.DESCR[4:18]"
      ],
      "execution_count": 21,
      "outputs": [
        {
          "output_type": "execute_result",
          "data": {
            "application/vnd.google.colaboratory.intrinsic+json": {
              "type": "string"
            },
            "text/plain": [
              "'digits_dataset'"
            ]
          },
          "metadata": {
            "tags": []
          },
          "execution_count": 21
        }
      ]
    },
    {
      "cell_type": "code",
      "metadata": {
        "id": "hvZrCvxvATLw"
      },
      "source": [
        "# define the model\n",
        "HeterogeneousModel = HeterogeneousClassifier()"
      ],
      "execution_count": 22,
      "outputs": []
    },
    {
      "cell_type": "code",
      "metadata": {
        "colab": {
          "base_uri": "https://localhost:8080/"
        },
        "id": "S7wrCv6UA2dD",
        "outputId": "656b48f3-4457-4f97-d0b2-5d46f3b7d557"
      },
      "source": [
        "# Model Evaluate\n",
        "grid = {'estimator__n_samples': [1,3,5,7]}\n",
        "model = HeterogeneousModel\n",
        "print('Model Evaluate... Heterogeneous Classifier')\n",
        "hpScores = GridTestModel(dataBase, model, grid)"
      ],
      "execution_count": 23,
      "outputs": [
        {
          "output_type": "stream",
          "text": [
            "Model Evaluate... Heterogeneous Classifier\n",
            "Done\n"
          ],
          "name": "stdout"
        }
      ]
    },
    {
      "cell_type": "code",
      "metadata": {
        "colab": {
          "base_uri": "https://localhost:8080/"
        },
        "id": "aoFc5PJVCAZ2",
        "outputId": "6f849ebf-a049-469e-b412-39c4b35fd55a"
      },
      "source": [
        "# Resultados\n",
        "print('****** Resultados ******\\n')\n",
        "print('Base de Dados: ', dataBase.DESCR[4:18])\n",
        "print('Modelo - ', str(model)[0:23], '\\n')\n",
        "hp_mean, hp_std, hp_inf, hp_sup = getResults(hpScores)"
      ],
      "execution_count": 24,
      "outputs": [
        {
          "output_type": "stream",
          "text": [
            "****** Resultados ******\n",
            "\n",
            "Base de Dados:  digits_dataset\n",
            "Modelo -  HeterogeneousClassifier \n",
            "\n",
            "[0.93333333 0.93888889 0.95       0.91666667 0.91111111 0.93888889\n",
            " 0.92777778 0.93854749 0.91620112 0.96089385 0.95       0.91666667\n",
            " 0.92777778 0.91666667 0.93333333 0.95       0.91666667 0.9273743\n",
            " 0.96648045 0.94413408 0.93888889 0.92222222 0.91111111 0.95\n",
            " 0.93333333 0.92222222 0.95       0.95530726 0.94972067 0.89944134]\n",
            "\n",
            "Mean Accuracy: 0.934 Standard Deviation: 0.016\n",
            "Accuracy Confidence Interval (95%): (0.93, 0.94)\n",
            "\n"
          ],
          "name": "stdout"
        }
      ]
    },
    {
      "cell_type": "markdown",
      "metadata": {
        "id": "mw44W8agZXsk"
      },
      "source": [
        "## Resultados Classificadores Acurácia"
      ]
    },
    {
      "cell_type": "code",
      "metadata": {
        "id": "JKF5mZfRCMvW",
        "colab": {
          "base_uri": "https://localhost:8080/",
          "height": 173
        },
        "outputId": "f7c04742-836e-4056-e089-bca561fc395b"
      },
      "source": [
        "dfResultClassifier.iloc[3] = ['Heterogeneous', hp_mean, hp_std, hp_inf, hp_sup]\n",
        "dfResultClassifier"
      ],
      "execution_count": 25,
      "outputs": [
        {
          "output_type": "execute_result",
          "data": {
            "text/html": [
              "<div>\n",
              "<style scoped>\n",
              "    .dataframe tbody tr th:only-of-type {\n",
              "        vertical-align: middle;\n",
              "    }\n",
              "\n",
              "    .dataframe tbody tr th {\n",
              "        vertical-align: top;\n",
              "    }\n",
              "\n",
              "    .dataframe thead th {\n",
              "        text-align: right;\n",
              "    }\n",
              "</style>\n",
              "<table border=\"1\" class=\"dataframe\">\n",
              "  <thead>\n",
              "    <tr style=\"text-align: right;\">\n",
              "      <th></th>\n",
              "      <th>Métodos</th>\n",
              "      <th>Média</th>\n",
              "      <th>STD</th>\n",
              "      <th>Limite Inferior</th>\n",
              "      <th>Limite Superior</th>\n",
              "    </tr>\n",
              "  </thead>\n",
              "  <tbody>\n",
              "    <tr>\n",
              "      <th>0</th>\n",
              "      <td>Baggind</td>\n",
              "      <td>0.953632</td>\n",
              "      <td>0.0129415</td>\n",
              "      <td>0.949001</td>\n",
              "      <td>0.958263</td>\n",
              "    </tr>\n",
              "    <tr>\n",
              "      <th>1</th>\n",
              "      <td>Adaboost</td>\n",
              "      <td>0.269878</td>\n",
              "      <td>0.0222605</td>\n",
              "      <td>0.261912</td>\n",
              "      <td>0.277844</td>\n",
              "    </tr>\n",
              "    <tr>\n",
              "      <th>2</th>\n",
              "      <td>RandomForest</td>\n",
              "      <td>0.975879</td>\n",
              "      <td>0.00969284</td>\n",
              "      <td>0.972411</td>\n",
              "      <td>0.979348</td>\n",
              "    </tr>\n",
              "    <tr>\n",
              "      <th>3</th>\n",
              "      <td>Heterogeneous</td>\n",
              "      <td>0.933789</td>\n",
              "      <td>0.0164458</td>\n",
              "      <td>0.927904</td>\n",
              "      <td>0.939673</td>\n",
              "    </tr>\n",
              "  </tbody>\n",
              "</table>\n",
              "</div>"
            ],
            "text/plain": [
              "         Métodos     Média         STD Limite Inferior Limite Superior\n",
              "0        Baggind  0.953632   0.0129415        0.949001        0.958263\n",
              "1       Adaboost  0.269878   0.0222605        0.261912        0.277844\n",
              "2   RandomForest  0.975879  0.00969284        0.972411        0.979348\n",
              "3  Heterogeneous  0.933789   0.0164458        0.927904        0.939673"
            ]
          },
          "metadata": {
            "tags": []
          },
          "execution_count": 25
        }
      ]
    },
    {
      "cell_type": "code",
      "metadata": {
        "colab": {
          "base_uri": "https://localhost:8080/",
          "height": 542
        },
        "id": "q3gfqvyVXGJ-",
        "outputId": "d57fc408-594a-4301-bff2-58105f06d321"
      },
      "source": [
        "import plotly.graph_objects as go\n",
        "scores = [bagScores, adaScores, rfScores, hpScores]\n",
        "scoresNames = ['Bagging', 'AdaBoost', 'RandomForest', 'Heterogeneous Polling']\n",
        "fig = go.Figure()\n",
        "for i in range(len(scores)):\n",
        "  fig.add_trace(go.Box(y=scores[i], name=scoresNames[i]))\n",
        "fig.update_layout(\n",
        "    yaxis_title='Acc',\n",
        "    xaxis_title='Modelos',\n",
        "    title='Digits - Desempenho dos Modelos  - Acurácia',\n",
        ")\n",
        "fig.show()"
      ],
      "execution_count": 26,
      "outputs": [
        {
          "output_type": "display_data",
          "data": {
            "text/html": [
              "<html>\n",
              "<head><meta charset=\"utf-8\" /></head>\n",
              "<body>\n",
              "    <div>\n",
              "            <script src=\"https://cdnjs.cloudflare.com/ajax/libs/mathjax/2.7.5/MathJax.js?config=TeX-AMS-MML_SVG\"></script><script type=\"text/javascript\">if (window.MathJax) {MathJax.Hub.Config({SVG: {font: \"STIX-Web\"}});}</script>\n",
              "                <script type=\"text/javascript\">window.PlotlyConfig = {MathJaxConfig: 'local'};</script>\n",
              "        <script src=\"https://cdn.plot.ly/plotly-latest.min.js\"></script>    \n",
              "            <div id=\"bf7a316d-beec-458d-a5ad-21d263b0fce3\" class=\"plotly-graph-div\" style=\"height:525px; width:100%;\"></div>\n",
              "            <script type=\"text/javascript\">\n",
              "                \n",
              "                    window.PLOTLYENV=window.PLOTLYENV || {};\n",
              "                    \n",
              "                if (document.getElementById(\"bf7a316d-beec-458d-a5ad-21d263b0fce3\")) {\n",
              "                    Plotly.newPlot(\n",
              "                        'bf7a316d-beec-458d-a5ad-21d263b0fce3',\n",
              "                        [{\"name\": \"Bagging\", \"type\": \"box\", \"y\": [0.95, 0.9611111111111111, 0.9388888888888889, 0.9722222222222222, 0.9333333333333333, 0.95, 0.95, 0.9608938547486033, 0.9608938547486033, 0.9776536312849162, 0.95, 0.9611111111111111, 0.9611111111111111, 0.9444444444444444, 0.9611111111111111, 0.9722222222222222, 0.95, 0.9441340782122905, 0.9497206703910615, 0.9497206703910615, 0.95, 0.9388888888888889, 0.9444444444444444, 0.9444444444444444, 0.9277777777777778, 0.9722222222222222, 0.9611111111111111, 0.9776536312849162, 0.9329608938547486, 0.9608938547486033]}, {\"name\": \"AdaBoost\", \"type\": \"box\", \"y\": [0.26666666666666666, 0.2611111111111111, 0.26666666666666666, 0.34444444444444444, 0.25555555555555554, 0.2833333333333333, 0.2722222222222222, 0.26256983240223464, 0.24022346368715083, 0.25139664804469275, 0.2833333333333333, 0.25555555555555554, 0.24444444444444444, 0.2611111111111111, 0.26666666666666666, 0.2722222222222222, 0.2722222222222222, 0.2346368715083799, 0.26256983240223464, 0.2905027932960894, 0.26666666666666666, 0.25, 0.2611111111111111, 0.32222222222222224, 0.3055555555555556, 0.2722222222222222, 0.2722222222222222, 0.2681564245810056, 0.2737430167597765, 0.2569832402234637]}, {\"name\": \"RandomForest\", \"type\": \"box\", \"y\": [0.9833333333333333, 0.9833333333333333, 0.9666666666666667, 0.9666666666666667, 0.9777777777777777, 0.9888888888888889, 0.9666666666666667, 0.9664804469273743, 0.9608938547486033, 0.9888268156424581, 0.9777777777777777, 0.9833333333333333, 0.9777777777777777, 0.9722222222222222, 0.9888888888888889, 0.9944444444444445, 0.9722222222222222, 0.9720670391061452, 0.9553072625698324, 0.9776536312849162, 0.9666666666666667, 0.9611111111111111, 0.9666666666666667, 0.9833333333333333, 0.9833333333333333, 0.9777777777777777, 0.9888888888888889, 0.9832402234636871, 0.9720670391061452, 0.9720670391061452]}, {\"name\": \"Heterogeneous Polling\", \"type\": \"box\", \"y\": [0.9333333333333333, 0.9388888888888889, 0.95, 0.9166666666666666, 0.9111111111111111, 0.9388888888888889, 0.9277777777777778, 0.9385474860335196, 0.9162011173184358, 0.9608938547486033, 0.95, 0.9166666666666666, 0.9277777777777778, 0.9166666666666666, 0.9333333333333333, 0.95, 0.9166666666666666, 0.9273743016759777, 0.9664804469273743, 0.9441340782122905, 0.9388888888888889, 0.9222222222222223, 0.9111111111111111, 0.95, 0.9333333333333333, 0.9222222222222223, 0.95, 0.9553072625698324, 0.9497206703910615, 0.8994413407821229]}],\n",
              "                        {\"template\": {\"data\": {\"bar\": [{\"error_x\": {\"color\": \"#2a3f5f\"}, \"error_y\": {\"color\": \"#2a3f5f\"}, \"marker\": {\"line\": {\"color\": \"#E5ECF6\", \"width\": 0.5}}, \"type\": \"bar\"}], \"barpolar\": [{\"marker\": {\"line\": {\"color\": \"#E5ECF6\", \"width\": 0.5}}, \"type\": \"barpolar\"}], \"carpet\": [{\"aaxis\": {\"endlinecolor\": \"#2a3f5f\", \"gridcolor\": \"white\", \"linecolor\": \"white\", \"minorgridcolor\": \"white\", \"startlinecolor\": \"#2a3f5f\"}, \"baxis\": {\"endlinecolor\": \"#2a3f5f\", \"gridcolor\": \"white\", \"linecolor\": \"white\", \"minorgridcolor\": \"white\", \"startlinecolor\": \"#2a3f5f\"}, \"type\": \"carpet\"}], \"choropleth\": [{\"colorbar\": {\"outlinewidth\": 0, \"ticks\": \"\"}, \"type\": \"choropleth\"}], \"contour\": [{\"colorbar\": {\"outlinewidth\": 0, \"ticks\": \"\"}, \"colorscale\": [[0.0, \"#0d0887\"], [0.1111111111111111, \"#46039f\"], [0.2222222222222222, \"#7201a8\"], [0.3333333333333333, \"#9c179e\"], [0.4444444444444444, \"#bd3786\"], [0.5555555555555556, \"#d8576b\"], [0.6666666666666666, \"#ed7953\"], [0.7777777777777778, \"#fb9f3a\"], [0.8888888888888888, \"#fdca26\"], [1.0, \"#f0f921\"]], \"type\": \"contour\"}], \"contourcarpet\": [{\"colorbar\": {\"outlinewidth\": 0, \"ticks\": \"\"}, \"type\": \"contourcarpet\"}], \"heatmap\": [{\"colorbar\": {\"outlinewidth\": 0, \"ticks\": \"\"}, \"colorscale\": [[0.0, \"#0d0887\"], [0.1111111111111111, \"#46039f\"], [0.2222222222222222, \"#7201a8\"], [0.3333333333333333, \"#9c179e\"], [0.4444444444444444, \"#bd3786\"], [0.5555555555555556, \"#d8576b\"], [0.6666666666666666, \"#ed7953\"], [0.7777777777777778, \"#fb9f3a\"], [0.8888888888888888, \"#fdca26\"], [1.0, \"#f0f921\"]], \"type\": \"heatmap\"}], \"heatmapgl\": [{\"colorbar\": {\"outlinewidth\": 0, \"ticks\": \"\"}, \"colorscale\": [[0.0, \"#0d0887\"], [0.1111111111111111, \"#46039f\"], [0.2222222222222222, \"#7201a8\"], [0.3333333333333333, \"#9c179e\"], [0.4444444444444444, \"#bd3786\"], [0.5555555555555556, \"#d8576b\"], [0.6666666666666666, \"#ed7953\"], [0.7777777777777778, \"#fb9f3a\"], [0.8888888888888888, \"#fdca26\"], [1.0, \"#f0f921\"]], \"type\": \"heatmapgl\"}], \"histogram\": [{\"marker\": {\"colorbar\": {\"outlinewidth\": 0, \"ticks\": \"\"}}, \"type\": \"histogram\"}], \"histogram2d\": [{\"colorbar\": {\"outlinewidth\": 0, \"ticks\": \"\"}, \"colorscale\": [[0.0, \"#0d0887\"], [0.1111111111111111, \"#46039f\"], [0.2222222222222222, \"#7201a8\"], [0.3333333333333333, \"#9c179e\"], [0.4444444444444444, \"#bd3786\"], [0.5555555555555556, \"#d8576b\"], [0.6666666666666666, \"#ed7953\"], [0.7777777777777778, \"#fb9f3a\"], [0.8888888888888888, \"#fdca26\"], [1.0, \"#f0f921\"]], \"type\": \"histogram2d\"}], \"histogram2dcontour\": [{\"colorbar\": {\"outlinewidth\": 0, \"ticks\": \"\"}, \"colorscale\": [[0.0, \"#0d0887\"], [0.1111111111111111, \"#46039f\"], [0.2222222222222222, \"#7201a8\"], [0.3333333333333333, \"#9c179e\"], [0.4444444444444444, \"#bd3786\"], [0.5555555555555556, \"#d8576b\"], [0.6666666666666666, \"#ed7953\"], [0.7777777777777778, \"#fb9f3a\"], [0.8888888888888888, \"#fdca26\"], [1.0, \"#f0f921\"]], \"type\": \"histogram2dcontour\"}], \"mesh3d\": [{\"colorbar\": {\"outlinewidth\": 0, \"ticks\": \"\"}, \"type\": \"mesh3d\"}], \"parcoords\": [{\"line\": {\"colorbar\": {\"outlinewidth\": 0, \"ticks\": \"\"}}, \"type\": \"parcoords\"}], \"pie\": [{\"automargin\": true, \"type\": \"pie\"}], \"scatter\": [{\"marker\": {\"colorbar\": {\"outlinewidth\": 0, \"ticks\": \"\"}}, \"type\": \"scatter\"}], \"scatter3d\": [{\"line\": {\"colorbar\": {\"outlinewidth\": 0, \"ticks\": \"\"}}, \"marker\": {\"colorbar\": {\"outlinewidth\": 0, \"ticks\": \"\"}}, \"type\": \"scatter3d\"}], \"scattercarpet\": [{\"marker\": {\"colorbar\": {\"outlinewidth\": 0, \"ticks\": \"\"}}, \"type\": \"scattercarpet\"}], \"scattergeo\": [{\"marker\": {\"colorbar\": {\"outlinewidth\": 0, \"ticks\": \"\"}}, \"type\": \"scattergeo\"}], \"scattergl\": [{\"marker\": {\"colorbar\": {\"outlinewidth\": 0, \"ticks\": \"\"}}, \"type\": \"scattergl\"}], \"scattermapbox\": [{\"marker\": {\"colorbar\": {\"outlinewidth\": 0, \"ticks\": \"\"}}, \"type\": \"scattermapbox\"}], \"scatterpolar\": [{\"marker\": {\"colorbar\": {\"outlinewidth\": 0, \"ticks\": \"\"}}, \"type\": \"scatterpolar\"}], \"scatterpolargl\": [{\"marker\": {\"colorbar\": {\"outlinewidth\": 0, \"ticks\": \"\"}}, \"type\": \"scatterpolargl\"}], \"scatterternary\": [{\"marker\": {\"colorbar\": {\"outlinewidth\": 0, \"ticks\": \"\"}}, \"type\": \"scatterternary\"}], \"surface\": [{\"colorbar\": {\"outlinewidth\": 0, \"ticks\": \"\"}, \"colorscale\": [[0.0, \"#0d0887\"], [0.1111111111111111, \"#46039f\"], [0.2222222222222222, \"#7201a8\"], [0.3333333333333333, \"#9c179e\"], [0.4444444444444444, \"#bd3786\"], [0.5555555555555556, \"#d8576b\"], [0.6666666666666666, \"#ed7953\"], [0.7777777777777778, \"#fb9f3a\"], [0.8888888888888888, \"#fdca26\"], [1.0, \"#f0f921\"]], \"type\": \"surface\"}], \"table\": [{\"cells\": {\"fill\": {\"color\": \"#EBF0F8\"}, \"line\": {\"color\": \"white\"}}, \"header\": {\"fill\": {\"color\": \"#C8D4E3\"}, \"line\": {\"color\": \"white\"}}, \"type\": \"table\"}]}, \"layout\": {\"annotationdefaults\": {\"arrowcolor\": \"#2a3f5f\", \"arrowhead\": 0, \"arrowwidth\": 1}, \"coloraxis\": {\"colorbar\": {\"outlinewidth\": 0, \"ticks\": \"\"}}, \"colorscale\": {\"diverging\": [[0, \"#8e0152\"], [0.1, \"#c51b7d\"], [0.2, \"#de77ae\"], [0.3, \"#f1b6da\"], [0.4, \"#fde0ef\"], [0.5, \"#f7f7f7\"], [0.6, \"#e6f5d0\"], [0.7, \"#b8e186\"], [0.8, \"#7fbc41\"], [0.9, \"#4d9221\"], [1, \"#276419\"]], \"sequential\": [[0.0, \"#0d0887\"], [0.1111111111111111, \"#46039f\"], [0.2222222222222222, \"#7201a8\"], [0.3333333333333333, \"#9c179e\"], [0.4444444444444444, \"#bd3786\"], [0.5555555555555556, \"#d8576b\"], [0.6666666666666666, \"#ed7953\"], [0.7777777777777778, \"#fb9f3a\"], [0.8888888888888888, \"#fdca26\"], [1.0, \"#f0f921\"]], \"sequentialminus\": [[0.0, \"#0d0887\"], [0.1111111111111111, \"#46039f\"], [0.2222222222222222, \"#7201a8\"], [0.3333333333333333, \"#9c179e\"], [0.4444444444444444, \"#bd3786\"], [0.5555555555555556, \"#d8576b\"], [0.6666666666666666, \"#ed7953\"], [0.7777777777777778, \"#fb9f3a\"], [0.8888888888888888, \"#fdca26\"], [1.0, \"#f0f921\"]]}, \"colorway\": [\"#636efa\", \"#EF553B\", \"#00cc96\", \"#ab63fa\", \"#FFA15A\", \"#19d3f3\", \"#FF6692\", \"#B6E880\", \"#FF97FF\", \"#FECB52\"], \"font\": {\"color\": \"#2a3f5f\"}, \"geo\": {\"bgcolor\": \"white\", \"lakecolor\": \"white\", \"landcolor\": \"#E5ECF6\", \"showlakes\": true, \"showland\": true, \"subunitcolor\": \"white\"}, \"hoverlabel\": {\"align\": \"left\"}, \"hovermode\": \"closest\", \"mapbox\": {\"style\": \"light\"}, \"paper_bgcolor\": \"white\", \"plot_bgcolor\": \"#E5ECF6\", \"polar\": {\"angularaxis\": {\"gridcolor\": \"white\", \"linecolor\": \"white\", \"ticks\": \"\"}, \"bgcolor\": \"#E5ECF6\", \"radialaxis\": {\"gridcolor\": \"white\", \"linecolor\": \"white\", \"ticks\": \"\"}}, \"scene\": {\"xaxis\": {\"backgroundcolor\": \"#E5ECF6\", \"gridcolor\": \"white\", \"gridwidth\": 2, \"linecolor\": \"white\", \"showbackground\": true, \"ticks\": \"\", \"zerolinecolor\": \"white\"}, \"yaxis\": {\"backgroundcolor\": \"#E5ECF6\", \"gridcolor\": \"white\", \"gridwidth\": 2, \"linecolor\": \"white\", \"showbackground\": true, \"ticks\": \"\", \"zerolinecolor\": \"white\"}, \"zaxis\": {\"backgroundcolor\": \"#E5ECF6\", \"gridcolor\": \"white\", \"gridwidth\": 2, \"linecolor\": \"white\", \"showbackground\": true, \"ticks\": \"\", \"zerolinecolor\": \"white\"}}, \"shapedefaults\": {\"line\": {\"color\": \"#2a3f5f\"}}, \"ternary\": {\"aaxis\": {\"gridcolor\": \"white\", \"linecolor\": \"white\", \"ticks\": \"\"}, \"baxis\": {\"gridcolor\": \"white\", \"linecolor\": \"white\", \"ticks\": \"\"}, \"bgcolor\": \"#E5ECF6\", \"caxis\": {\"gridcolor\": \"white\", \"linecolor\": \"white\", \"ticks\": \"\"}}, \"title\": {\"x\": 0.05}, \"xaxis\": {\"automargin\": true, \"gridcolor\": \"white\", \"linecolor\": \"white\", \"ticks\": \"\", \"title\": {\"standoff\": 15}, \"zerolinecolor\": \"white\", \"zerolinewidth\": 2}, \"yaxis\": {\"automargin\": true, \"gridcolor\": \"white\", \"linecolor\": \"white\", \"ticks\": \"\", \"title\": {\"standoff\": 15}, \"zerolinecolor\": \"white\", \"zerolinewidth\": 2}}}, \"title\": {\"text\": \"Digits - Desempenho dos Modelos  - Acur\\u00e1cia\"}, \"xaxis\": {\"title\": {\"text\": \"Modelos\"}}, \"yaxis\": {\"title\": {\"text\": \"Acc\"}}},\n",
              "                        {\"responsive\": true}\n",
              "                    ).then(function(){\n",
              "                            \n",
              "var gd = document.getElementById('bf7a316d-beec-458d-a5ad-21d263b0fce3');\n",
              "var x = new MutationObserver(function (mutations, observer) {{\n",
              "        var display = window.getComputedStyle(gd).display;\n",
              "        if (!display || display === 'none') {{\n",
              "            console.log([gd, 'removed!']);\n",
              "            Plotly.purge(gd);\n",
              "            observer.disconnect();\n",
              "        }}\n",
              "}});\n",
              "\n",
              "// Listen for the removal of the full notebook cells\n",
              "var notebookContainer = gd.closest('#notebook-container');\n",
              "if (notebookContainer) {{\n",
              "    x.observe(notebookContainer, {childList: true});\n",
              "}}\n",
              "\n",
              "// Listen for the clearing of the current output cell\n",
              "var outputEl = gd.closest('.output');\n",
              "if (outputEl) {{\n",
              "    x.observe(outputEl, {childList: true});\n",
              "}}\n",
              "\n",
              "                        })\n",
              "                };\n",
              "                \n",
              "            </script>\n",
              "        </div>\n",
              "</body>\n",
              "</html>"
            ]
          },
          "metadata": {
            "tags": []
          }
        }
      ]
    },
    {
      "cell_type": "markdown",
      "metadata": {
        "id": "nqzBdbSuUPh3"
      },
      "source": [
        "## Teste Pareado"
      ]
    },
    {
      "cell_type": "code",
      "metadata": {
        "colab": {
          "base_uri": "https://localhost:8080/",
          "height": 785
        },
        "id": "TVlY2Q5L2k32",
        "outputId": "5dc9e030-b030-4029-cbd6-f5cacc2569ba"
      },
      "source": [
        "from scipy.stats import ttest_rel, wilcoxon\n",
        "scores = [bagScores, adaScores, rfScores, hpScores]\n",
        "scoresNames = ['Bagging', 'AdaBoost', 'RandomForest', 'Heterogeneous Polling']\n",
        "dfPairTest = pd.DataFrame(columns=[0,1,2,3])\n",
        "for i in range(len(scores)):\n",
        "  for j in range(len(scores)):\n",
        "    if j == i:\n",
        "       dfPairTest.at[i, j] = scoresNames[i]\n",
        "    \n",
        "    if j > i:\n",
        "      print('Paired T Test', scoresNames[i], scoresNames[j])\n",
        "      s,p = ttest_rel(scores[i],scores[j])\n",
        "      print(\"t: %0.2f p-value: %0.8f\\n\" % (s,p))\n",
        "      dfPairTest.at[i, j] = p\n",
        "      # dfPairTest.iloc[i][j] = p\n",
        "    # print(\"t:\",(s,p))\n",
        "\n",
        "    if j < i :\n",
        "      print ('Wilcoxon Test', scoresNames[i], scoresNames[j])\n",
        "      s,p = wilcoxon (scores[i],scores[j])\n",
        "      print(\"w: %0.2f p-value: %0.8f\\n\" % (s,p))\n",
        "      dfPairTest.at[i, j] = p\n",
        "      # dfPairTest.iloc[i][j] = p\n",
        "# print(\"w: \",  (s,p))\n",
        "dfPairTest.columns = ['T1','T2','T3','T4']\n",
        "dfPairTest.index = ['w1', 'w2', 'w3', 'w4']\n",
        "dfPairTest"
      ],
      "execution_count": 27,
      "outputs": [
        {
          "output_type": "stream",
          "text": [
            "Paired T Test Bagging AdaBoost\n",
            "t: 141.28 p-value: 0.00000000\n",
            "\n",
            "Paired T Test Bagging RandomForest\n",
            "t: -8.85 p-value: 0.00000000\n",
            "\n",
            "Paired T Test Bagging Heterogeneous Polling\n",
            "t: 5.43 p-value: 0.00000778\n",
            "\n",
            "Wilcoxon Test AdaBoost Bagging\n",
            "w: 0.00 p-value: 0.00000171\n",
            "\n",
            "Paired T Test AdaBoost RandomForest\n",
            "t: -166.14 p-value: 0.00000000\n",
            "\n",
            "Paired T Test AdaBoost Heterogeneous Polling\n",
            "t: -139.82 p-value: 0.00000000\n",
            "\n",
            "Wilcoxon Test RandomForest Bagging\n",
            "w: 1.50 p-value: 0.00000293\n",
            "\n",
            "Wilcoxon Test RandomForest AdaBoost\n",
            "w: 0.00 p-value: 0.00000172\n",
            "\n",
            "Paired T Test RandomForest Heterogeneous Polling\n",
            "t: 13.51 p-value: 0.00000000\n",
            "\n",
            "Wilcoxon Test Heterogeneous Polling Bagging\n",
            "w: 32.00 p-value: 0.00005984\n",
            "\n",
            "Wilcoxon Test Heterogeneous Polling AdaBoost\n",
            "w: 0.00 p-value: 0.00000172\n",
            "\n",
            "Wilcoxon Test Heterogeneous Polling RandomForest\n",
            "w: 1.00 p-value: 0.00000190\n",
            "\n"
          ],
          "name": "stdout"
        },
        {
          "output_type": "execute_result",
          "data": {
            "text/html": [
              "<div>\n",
              "<style scoped>\n",
              "    .dataframe tbody tr th:only-of-type {\n",
              "        vertical-align: middle;\n",
              "    }\n",
              "\n",
              "    .dataframe tbody tr th {\n",
              "        vertical-align: top;\n",
              "    }\n",
              "\n",
              "    .dataframe thead th {\n",
              "        text-align: right;\n",
              "    }\n",
              "</style>\n",
              "<table border=\"1\" class=\"dataframe\">\n",
              "  <thead>\n",
              "    <tr style=\"text-align: right;\">\n",
              "      <th></th>\n",
              "      <th>T1</th>\n",
              "      <th>T2</th>\n",
              "      <th>T3</th>\n",
              "      <th>T4</th>\n",
              "    </tr>\n",
              "  </thead>\n",
              "  <tbody>\n",
              "    <tr>\n",
              "      <th>w1</th>\n",
              "      <td>Bagging</td>\n",
              "      <td>1.02385e-42</td>\n",
              "      <td>9.7954e-10</td>\n",
              "      <td>7.78092e-06</td>\n",
              "    </tr>\n",
              "    <tr>\n",
              "      <th>w2</th>\n",
              "      <td>1.71053e-06</td>\n",
              "      <td>AdaBoost</td>\n",
              "      <td>9.36674e-45</td>\n",
              "      <td>1.38397e-42</td>\n",
              "    </tr>\n",
              "    <tr>\n",
              "      <th>w3</th>\n",
              "      <td>2.93191e-06</td>\n",
              "      <td>1.7246e-06</td>\n",
              "      <td>RandomForest</td>\n",
              "      <td>4.86504e-14</td>\n",
              "    </tr>\n",
              "    <tr>\n",
              "      <th>w4</th>\n",
              "      <td>5.98376e-05</td>\n",
              "      <td>1.72026e-06</td>\n",
              "      <td>1.89707e-06</td>\n",
              "      <td>Heterogeneous Polling</td>\n",
              "    </tr>\n",
              "  </tbody>\n",
              "</table>\n",
              "</div>"
            ],
            "text/plain": [
              "             T1           T2            T3                     T4\n",
              "w1      Bagging  1.02385e-42    9.7954e-10            7.78092e-06\n",
              "w2  1.71053e-06     AdaBoost   9.36674e-45            1.38397e-42\n",
              "w3  2.93191e-06   1.7246e-06  RandomForest            4.86504e-14\n",
              "w4  5.98376e-05  1.72026e-06   1.89707e-06  Heterogeneous Polling"
            ]
          },
          "metadata": {
            "tags": []
          },
          "execution_count": 27
        }
      ]
    },
    {
      "cell_type": "markdown",
      "metadata": {
        "id": "CGYjQUh1aeLd"
      },
      "source": [
        "# Bases de Dados - Wine"
      ]
    },
    {
      "cell_type": "markdown",
      "metadata": {
        "id": "nG_Hs-ObaeLg"
      },
      "source": [
        "## Classificadores"
      ]
    },
    {
      "cell_type": "markdown",
      "metadata": {
        "id": "O01Y2KOraeLg"
      },
      "source": [
        "### Bagging"
      ]
    },
    {
      "cell_type": "code",
      "metadata": {
        "colab": {
          "base_uri": "https://localhost:8080/",
          "height": 35
        },
        "id": "7gODORQFaeLg",
        "outputId": "c1f19d22-1722-4f86-f828-cb9d206247d5"
      },
      "source": [
        "# Define DataBase\n",
        "dataBase = datasets.load_wine()\n",
        "dataBase.DESCR[4:18]"
      ],
      "execution_count": 6,
      "outputs": [
        {
          "output_type": "execute_result",
          "data": {
            "application/vnd.google.colaboratory.intrinsic+json": {
              "type": "string"
            },
            "text/plain": [
              "'wine_dataset:\\n'"
            ]
          },
          "metadata": {
            "tags": []
          },
          "execution_count": 6
        }
      ]
    },
    {
      "cell_type": "code",
      "metadata": {
        "id": "zTyJaO7baeLh"
      },
      "source": [
        "# define the model\n",
        "bagging = BaggingClassifier()"
      ],
      "execution_count": 7,
      "outputs": []
    },
    {
      "cell_type": "code",
      "metadata": {
        "colab": {
          "base_uri": "https://localhost:8080/"
        },
        "id": "BTr4aBmwaeLh",
        "outputId": "a0be179c-571d-4698-a58b-682121aeaf10"
      },
      "source": [
        "grid = {'estimator__n_estimators': [10, 25, 50, 100]}\n",
        "model = bagging\n",
        "print('Model Evaluate... BaggingClassifier')\n",
        "bagScores = GridTestModel(dataBase, model, grid)"
      ],
      "execution_count": 8,
      "outputs": [
        {
          "output_type": "stream",
          "text": [
            "Model Evaluate... BaggingClassifier\n",
            "Done\n"
          ],
          "name": "stdout"
        }
      ]
    },
    {
      "cell_type": "code",
      "metadata": {
        "colab": {
          "base_uri": "https://localhost:8080/"
        },
        "id": "FhsLqji7aeLh",
        "outputId": "a6d7f2d8-3bcb-4960-ffea-04888aae598d"
      },
      "source": [
        "# Resultados\n",
        "print('****** Resultados ******\\n')\n",
        "print('Base de Dados: ', dataBase.DESCR[4:18])\n",
        "print('Modelo - ', str(model)[0:17], '\\n')\n",
        "bag_mean, bag_std, bag_inf, bag_sup = getResults(bagScores)\n",
        "# dfResultClassifier.iloc[0] = ['Baggind', bag_mean, bag_std, bag_inf, bag_sup]\n",
        "# dfResultClassifier"
      ],
      "execution_count": 9,
      "outputs": [
        {
          "output_type": "stream",
          "text": [
            "****** Resultados ******\n",
            "\n",
            "Base de Dados:  wine_dataset:\n",
            "\n",
            "Modelo -  BaggingClassifier \n",
            "\n",
            "[1.         1.         0.94444444 1.         0.77777778 1.\n",
            " 1.         1.         0.88235294 0.94117647 1.         1.\n",
            " 1.         1.         1.         0.77777778 1.         0.94444444\n",
            " 0.94117647 0.94117647 0.94444444 1.         1.         0.94444444\n",
            " 1.         0.88888889 1.         0.94444444 1.         1.        ]\n",
            "\n",
            "Mean Accuracy: 0.962 Standard Deviation: 0.060\n",
            "Accuracy Confidence Interval (95%): (0.94, 0.98)\n",
            "\n"
          ],
          "name": "stdout"
        }
      ]
    },
    {
      "cell_type": "code",
      "metadata": {
        "colab": {
          "base_uri": "https://localhost:8080/",
          "height": 173
        },
        "id": "g16Wwvd2aeLi",
        "outputId": "dccf461a-061d-4c0f-84e6-c3b2663cc2eb"
      },
      "source": [
        "dfResultClassifier.iloc[0] = ['Baggind', bag_mean, bag_std, bag_inf, bag_sup]\n",
        "dfResultClassifier"
      ],
      "execution_count": 10,
      "outputs": [
        {
          "output_type": "execute_result",
          "data": {
            "text/html": [
              "<div>\n",
              "<style scoped>\n",
              "    .dataframe tbody tr th:only-of-type {\n",
              "        vertical-align: middle;\n",
              "    }\n",
              "\n",
              "    .dataframe tbody tr th {\n",
              "        vertical-align: top;\n",
              "    }\n",
              "\n",
              "    .dataframe thead th {\n",
              "        text-align: right;\n",
              "    }\n",
              "</style>\n",
              "<table border=\"1\" class=\"dataframe\">\n",
              "  <thead>\n",
              "    <tr style=\"text-align: right;\">\n",
              "      <th></th>\n",
              "      <th>Métodos</th>\n",
              "      <th>Média</th>\n",
              "      <th>STD</th>\n",
              "      <th>Limite Inferior</th>\n",
              "      <th>Limite Superior</th>\n",
              "    </tr>\n",
              "  </thead>\n",
              "  <tbody>\n",
              "    <tr>\n",
              "      <th>0</th>\n",
              "      <td>Baggind</td>\n",
              "      <td>0.962418</td>\n",
              "      <td>0.0601091</td>\n",
              "      <td>0.940909</td>\n",
              "      <td>0.983928</td>\n",
              "    </tr>\n",
              "    <tr>\n",
              "      <th>1</th>\n",
              "      <td>AdaBoost</td>\n",
              "      <td>NaN</td>\n",
              "      <td>NaN</td>\n",
              "      <td>NaN</td>\n",
              "      <td>NaN</td>\n",
              "    </tr>\n",
              "    <tr>\n",
              "      <th>2</th>\n",
              "      <td>RandomForest</td>\n",
              "      <td>NaN</td>\n",
              "      <td>NaN</td>\n",
              "      <td>NaN</td>\n",
              "      <td>NaN</td>\n",
              "    </tr>\n",
              "    <tr>\n",
              "      <th>3</th>\n",
              "      <td>HeterogeneousPooling</td>\n",
              "      <td>NaN</td>\n",
              "      <td>NaN</td>\n",
              "      <td>NaN</td>\n",
              "      <td>NaN</td>\n",
              "    </tr>\n",
              "  </tbody>\n",
              "</table>\n",
              "</div>"
            ],
            "text/plain": [
              "                Métodos     Média        STD Limite Inferior Limite Superior\n",
              "0               Baggind  0.962418  0.0601091        0.940909        0.983928\n",
              "1              AdaBoost       NaN        NaN             NaN             NaN\n",
              "2          RandomForest       NaN        NaN             NaN             NaN\n",
              "3  HeterogeneousPooling       NaN        NaN             NaN             NaN"
            ]
          },
          "metadata": {
            "tags": []
          },
          "execution_count": 10
        }
      ]
    },
    {
      "cell_type": "markdown",
      "metadata": {
        "id": "YkNNhPFwaeLi"
      },
      "source": [
        "### AdaBoost"
      ]
    },
    {
      "cell_type": "code",
      "metadata": {
        "colab": {
          "base_uri": "https://localhost:8080/",
          "height": 35
        },
        "id": "gnvduf6haeLi",
        "outputId": "b0fcdba3-0218-4f73-d613-4ced6caede46"
      },
      "source": [
        "# Define DataBase\n",
        "dataBase = datasets.load_wine()\n",
        "dataBase.DESCR[4:18]"
      ],
      "execution_count": 11,
      "outputs": [
        {
          "output_type": "execute_result",
          "data": {
            "application/vnd.google.colaboratory.intrinsic+json": {
              "type": "string"
            },
            "text/plain": [
              "'wine_dataset:\\n'"
            ]
          },
          "metadata": {
            "tags": []
          },
          "execution_count": 11
        }
      ]
    },
    {
      "cell_type": "code",
      "metadata": {
        "id": "AKWWIRQjaeLi"
      },
      "source": [
        "# define the Model\n",
        "adaBoost = AdaBoostClassifier()"
      ],
      "execution_count": 12,
      "outputs": []
    },
    {
      "cell_type": "code",
      "metadata": {
        "colab": {
          "base_uri": "https://localhost:8080/"
        },
        "id": "6HYlCo01aeLi",
        "outputId": "270a847c-da35-4c59-b53a-60606194e618"
      },
      "source": [
        "# Z-score, Train, Test, gridSearch, CrossValidation\n",
        "grid = {'estimator__n_estimators': [10, 25, 50, 100]}\n",
        "model = adaBoost\n",
        "print('Model Evaluate... AdaBoostClassifier')\n",
        "adaScores = GridTestModel(dataBase, model, grid)"
      ],
      "execution_count": 13,
      "outputs": [
        {
          "output_type": "stream",
          "text": [
            "Model Evaluate... AdaBoostClassifier\n",
            "Done\n"
          ],
          "name": "stdout"
        }
      ]
    },
    {
      "cell_type": "code",
      "metadata": {
        "colab": {
          "base_uri": "https://localhost:8080/"
        },
        "id": "-WqBDRTsaeLj",
        "outputId": "0743cb27-c935-4df5-8b6f-ae12f29eacc6"
      },
      "source": [
        "# Resultados\n",
        "print('****** Resultados ******\\n')\n",
        "print('Base de Dados: ', dataBase.DESCR[4:18])\n",
        "print('Modelo - ', str(model)[0:18], '\\n')\n",
        "ada_mean, ada_std, ada_inf, ada_sup = getResults(adaScores)"
      ],
      "execution_count": 14,
      "outputs": [
        {
          "output_type": "stream",
          "text": [
            "****** Resultados ******\n",
            "\n",
            "Base de Dados:  wine_dataset:\n",
            "\n",
            "Modelo -  AdaBoostClassifier \n",
            "\n",
            "[0.88888889 0.88888889 0.94444444 1.         0.88888889 0.94444444\n",
            " 0.83333333 1.         0.94117647 0.94117647 0.72222222 0.83333333\n",
            " 0.88888889 0.94444444 1.         0.88888889 0.88888889 0.88888889\n",
            " 0.94117647 1.         1.         1.         0.83333333 0.94444444\n",
            " 0.94444444 0.83333333 0.77777778 0.94444444 0.82352941 1.        ]\n",
            "\n",
            "Mean Accuracy: 0.912 Standard Deviation: 0.072\n",
            "Accuracy Confidence Interval (95%): (0.89, 0.94)\n",
            "\n"
          ],
          "name": "stdout"
        }
      ]
    },
    {
      "cell_type": "code",
      "metadata": {
        "colab": {
          "base_uri": "https://localhost:8080/",
          "height": 173
        },
        "id": "Ai03a5bjaeLj",
        "outputId": "b9e3a267-2379-4445-cc78-12681275c3e5"
      },
      "source": [
        "dfResultClassifier.iloc[1] = ['Adaboost', ada_mean, ada_std, ada_inf, ada_sup]\n",
        "dfResultClassifier"
      ],
      "execution_count": 15,
      "outputs": [
        {
          "output_type": "execute_result",
          "data": {
            "text/html": [
              "<div>\n",
              "<style scoped>\n",
              "    .dataframe tbody tr th:only-of-type {\n",
              "        vertical-align: middle;\n",
              "    }\n",
              "\n",
              "    .dataframe tbody tr th {\n",
              "        vertical-align: top;\n",
              "    }\n",
              "\n",
              "    .dataframe thead th {\n",
              "        text-align: right;\n",
              "    }\n",
              "</style>\n",
              "<table border=\"1\" class=\"dataframe\">\n",
              "  <thead>\n",
              "    <tr style=\"text-align: right;\">\n",
              "      <th></th>\n",
              "      <th>Métodos</th>\n",
              "      <th>Média</th>\n",
              "      <th>STD</th>\n",
              "      <th>Limite Inferior</th>\n",
              "      <th>Limite Superior</th>\n",
              "    </tr>\n",
              "  </thead>\n",
              "  <tbody>\n",
              "    <tr>\n",
              "      <th>0</th>\n",
              "      <td>Baggind</td>\n",
              "      <td>0.962418</td>\n",
              "      <td>0.0601091</td>\n",
              "      <td>0.940909</td>\n",
              "      <td>0.983928</td>\n",
              "    </tr>\n",
              "    <tr>\n",
              "      <th>1</th>\n",
              "      <td>Adaboost</td>\n",
              "      <td>0.912309</td>\n",
              "      <td>0.0715136</td>\n",
              "      <td>0.886719</td>\n",
              "      <td>0.9379</td>\n",
              "    </tr>\n",
              "    <tr>\n",
              "      <th>2</th>\n",
              "      <td>RandomForest</td>\n",
              "      <td>NaN</td>\n",
              "      <td>NaN</td>\n",
              "      <td>NaN</td>\n",
              "      <td>NaN</td>\n",
              "    </tr>\n",
              "    <tr>\n",
              "      <th>3</th>\n",
              "      <td>HeterogeneousPooling</td>\n",
              "      <td>NaN</td>\n",
              "      <td>NaN</td>\n",
              "      <td>NaN</td>\n",
              "      <td>NaN</td>\n",
              "    </tr>\n",
              "  </tbody>\n",
              "</table>\n",
              "</div>"
            ],
            "text/plain": [
              "                Métodos     Média        STD Limite Inferior Limite Superior\n",
              "0               Baggind  0.962418  0.0601091        0.940909        0.983928\n",
              "1              Adaboost  0.912309  0.0715136        0.886719          0.9379\n",
              "2          RandomForest       NaN        NaN             NaN             NaN\n",
              "3  HeterogeneousPooling       NaN        NaN             NaN             NaN"
            ]
          },
          "metadata": {
            "tags": []
          },
          "execution_count": 15
        }
      ]
    },
    {
      "cell_type": "markdown",
      "metadata": {
        "id": "bKYlD6VNaeLj"
      },
      "source": [
        "### RandomForest"
      ]
    },
    {
      "cell_type": "code",
      "metadata": {
        "colab": {
          "base_uri": "https://localhost:8080/",
          "height": 35
        },
        "id": "JZbzuX1QaeLj",
        "outputId": "7bed0a32-28b9-4ca8-a6fb-ddb31ccfced6"
      },
      "source": [
        "# Define DataBase\n",
        "dataBase = datasets.load_wine()\n",
        "dataBase.DESCR[4:18]"
      ],
      "execution_count": 16,
      "outputs": [
        {
          "output_type": "execute_result",
          "data": {
            "application/vnd.google.colaboratory.intrinsic+json": {
              "type": "string"
            },
            "text/plain": [
              "'wine_dataset:\\n'"
            ]
          },
          "metadata": {
            "tags": []
          },
          "execution_count": 16
        }
      ]
    },
    {
      "cell_type": "code",
      "metadata": {
        "id": "FcQlk2c_aeLj"
      },
      "source": [
        "# define the Model\n",
        "randomForest = RandomForestClassifier()"
      ],
      "execution_count": 17,
      "outputs": []
    },
    {
      "cell_type": "code",
      "metadata": {
        "colab": {
          "base_uri": "https://localhost:8080/"
        },
        "id": "Od9CSDW-aeLk",
        "outputId": "81043d51-bf73-49eb-d2b5-d2eb796d7c3e"
      },
      "source": [
        "# Model Evaluate\n",
        "grid = {'estimator__n_estimators': [10, 25, 50, 100]}\n",
        "model = randomForest\n",
        "print('Model Evaluate... RandomForestClassifier')\n",
        "rfScores = GridTestModel(dataBase, model, grid)"
      ],
      "execution_count": 18,
      "outputs": [
        {
          "output_type": "stream",
          "text": [
            "Model Evaluate... RandomForestClassifier\n",
            "Done\n"
          ],
          "name": "stdout"
        }
      ]
    },
    {
      "cell_type": "code",
      "metadata": {
        "colab": {
          "base_uri": "https://localhost:8080/"
        },
        "id": "1HL35hd-aeLk",
        "outputId": "d7552fda-2a6c-4560-c055-f3a3935cb2c7"
      },
      "source": [
        "# Resultados\n",
        "print('****** Resultados ******\\n')\n",
        "print('Base de Dados: ', dataBase.DESCR[4:18])\n",
        "print('Modelo - ', str(model)[0:22], '\\n')\n",
        "rf_mean, rf_std, rf_inf, rf_sup = getResults(rfScores)"
      ],
      "execution_count": 19,
      "outputs": [
        {
          "output_type": "stream",
          "text": [
            "****** Resultados ******\n",
            "\n",
            "Base de Dados:  wine_dataset:\n",
            "\n",
            "Modelo -  RandomForestClassifier \n",
            "\n",
            "[1.         1.         1.         1.         0.88888889 1.\n",
            " 1.         0.94444444 1.         0.94117647 1.         1.\n",
            " 1.         1.         1.         0.88888889 1.         1.\n",
            " 1.         1.         0.94444444 1.         1.         1.\n",
            " 1.         1.         1.         0.94444444 0.94117647 1.        ]\n",
            "\n",
            "Mean Accuracy: 0.983 Standard Deviation: 0.033\n",
            "Accuracy Confidence Interval (95%): (0.97, 0.99)\n",
            "\n"
          ],
          "name": "stdout"
        }
      ]
    },
    {
      "cell_type": "code",
      "metadata": {
        "colab": {
          "base_uri": "https://localhost:8080/",
          "height": 173
        },
        "id": "dwugk-xgaeLk",
        "outputId": "8696f934-783f-46f5-b52e-ddf50402142e"
      },
      "source": [
        "dfResultClassifier.iloc[2] = ['RandomForest', rf_mean, rf_std, rf_inf, rf_sup]\n",
        "dfResultClassifier"
      ],
      "execution_count": 20,
      "outputs": [
        {
          "output_type": "execute_result",
          "data": {
            "text/html": [
              "<div>\n",
              "<style scoped>\n",
              "    .dataframe tbody tr th:only-of-type {\n",
              "        vertical-align: middle;\n",
              "    }\n",
              "\n",
              "    .dataframe tbody tr th {\n",
              "        vertical-align: top;\n",
              "    }\n",
              "\n",
              "    .dataframe thead th {\n",
              "        text-align: right;\n",
              "    }\n",
              "</style>\n",
              "<table border=\"1\" class=\"dataframe\">\n",
              "  <thead>\n",
              "    <tr style=\"text-align: right;\">\n",
              "      <th></th>\n",
              "      <th>Métodos</th>\n",
              "      <th>Média</th>\n",
              "      <th>STD</th>\n",
              "      <th>Limite Inferior</th>\n",
              "      <th>Limite Superior</th>\n",
              "    </tr>\n",
              "  </thead>\n",
              "  <tbody>\n",
              "    <tr>\n",
              "      <th>0</th>\n",
              "      <td>Baggind</td>\n",
              "      <td>0.962418</td>\n",
              "      <td>0.0601091</td>\n",
              "      <td>0.940909</td>\n",
              "      <td>0.983928</td>\n",
              "    </tr>\n",
              "    <tr>\n",
              "      <th>1</th>\n",
              "      <td>Adaboost</td>\n",
              "      <td>0.912309</td>\n",
              "      <td>0.0715136</td>\n",
              "      <td>0.886719</td>\n",
              "      <td>0.9379</td>\n",
              "    </tr>\n",
              "    <tr>\n",
              "      <th>2</th>\n",
              "      <td>RandomForest</td>\n",
              "      <td>0.983115</td>\n",
              "      <td>0.0328219</td>\n",
              "      <td>0.971371</td>\n",
              "      <td>0.99486</td>\n",
              "    </tr>\n",
              "    <tr>\n",
              "      <th>3</th>\n",
              "      <td>HeterogeneousPooling</td>\n",
              "      <td>NaN</td>\n",
              "      <td>NaN</td>\n",
              "      <td>NaN</td>\n",
              "      <td>NaN</td>\n",
              "    </tr>\n",
              "  </tbody>\n",
              "</table>\n",
              "</div>"
            ],
            "text/plain": [
              "                Métodos     Média        STD Limite Inferior Limite Superior\n",
              "0               Baggind  0.962418  0.0601091        0.940909        0.983928\n",
              "1              Adaboost  0.912309  0.0715136        0.886719          0.9379\n",
              "2          RandomForest  0.983115  0.0328219        0.971371         0.99486\n",
              "3  HeterogeneousPooling       NaN        NaN             NaN             NaN"
            ]
          },
          "metadata": {
            "tags": []
          },
          "execution_count": 20
        }
      ]
    },
    {
      "cell_type": "markdown",
      "metadata": {
        "id": "i1sCO5l-aeLk"
      },
      "source": [
        "### HeterogeneousPooling"
      ]
    },
    {
      "cell_type": "code",
      "metadata": {
        "colab": {
          "base_uri": "https://localhost:8080/",
          "height": 35
        },
        "id": "Qg2Udv5zaeLk",
        "outputId": "3cab7280-3cfe-4a66-80a9-199255dbfdda"
      },
      "source": [
        "# Define DataBase\n",
        "dataBase = datasets.load_wine()\n",
        "dataBase.DESCR[4:18]"
      ],
      "execution_count": 21,
      "outputs": [
        {
          "output_type": "execute_result",
          "data": {
            "application/vnd.google.colaboratory.intrinsic+json": {
              "type": "string"
            },
            "text/plain": [
              "'wine_dataset:\\n'"
            ]
          },
          "metadata": {
            "tags": []
          },
          "execution_count": 21
        }
      ]
    },
    {
      "cell_type": "code",
      "metadata": {
        "id": "ioS7Ux7yaeLl"
      },
      "source": [
        "# define the model\n",
        "HeterogeneousModel = HeterogeneousClassifier()"
      ],
      "execution_count": 22,
      "outputs": []
    },
    {
      "cell_type": "code",
      "metadata": {
        "colab": {
          "base_uri": "https://localhost:8080/"
        },
        "id": "rWyaY-YxaeLl",
        "outputId": "f32bd1c5-bd68-4ec5-eced-37700a1ecdbe"
      },
      "source": [
        "# Model Evaluate\n",
        "grid = {'estimator__n_samples': [1,3,5,7]}\n",
        "model = HeterogeneousModel\n",
        "print('Model Evaluate... Heterogeneous Classifier')\n",
        "hpScores = GridTestModel(dataBase, model, grid)"
      ],
      "execution_count": 23,
      "outputs": [
        {
          "output_type": "stream",
          "text": [
            "Model Evaluate... Heterogeneous Classifier\n",
            "Done\n"
          ],
          "name": "stdout"
        }
      ]
    },
    {
      "cell_type": "code",
      "metadata": {
        "colab": {
          "base_uri": "https://localhost:8080/"
        },
        "id": "5fx0ZDRvaeLl",
        "outputId": "2462a7ae-07ed-4bda-8ea8-5a3c0de08412"
      },
      "source": [
        "# Resultados\n",
        "print('****** Resultados ******\\n')\n",
        "print('Base de Dados: ', dataBase.DESCR[4:18])\n",
        "print('Modelo - ', str(model)[0:23], '\\n')\n",
        "hp_mean, hp_std, hp_inf, hp_sup = getResults(hpScores)"
      ],
      "execution_count": 24,
      "outputs": [
        {
          "output_type": "stream",
          "text": [
            "****** Resultados ******\n",
            "\n",
            "Base de Dados:  wine_dataset:\n",
            "\n",
            "Modelo -  HeterogeneousClassifier \n",
            "\n",
            "[1.         0.94444444 1.         1.         0.83333333 1.\n",
            " 1.         1.         1.         0.88235294 1.         0.94444444\n",
            " 1.         1.         1.         0.83333333 0.94444444 1.\n",
            " 1.         0.94117647 0.94444444 1.         0.94444444 0.94444444\n",
            " 1.         0.94444444 1.         0.94444444 0.94117647 1.        ]\n",
            "\n",
            "Mean Accuracy: 0.966 Standard Deviation: 0.047\n",
            "Accuracy Confidence Interval (95%): (0.95, 0.98)\n",
            "\n"
          ],
          "name": "stdout"
        }
      ]
    },
    {
      "cell_type": "markdown",
      "metadata": {
        "id": "kxxnkwgAaeLl"
      },
      "source": [
        "## Resultados Classificadores Acurácia"
      ]
    },
    {
      "cell_type": "code",
      "metadata": {
        "colab": {
          "base_uri": "https://localhost:8080/",
          "height": 173
        },
        "id": "1yGQIm49aeLm",
        "outputId": "617f3330-6b39-4ae5-e5fc-2d3987250ffe"
      },
      "source": [
        "dfResultClassifier.iloc[3] = ['Heterogeneous', hp_mean, hp_std, hp_inf, hp_sup]\n",
        "dfResultClassifier"
      ],
      "execution_count": 25,
      "outputs": [
        {
          "output_type": "execute_result",
          "data": {
            "text/html": [
              "<div>\n",
              "<style scoped>\n",
              "    .dataframe tbody tr th:only-of-type {\n",
              "        vertical-align: middle;\n",
              "    }\n",
              "\n",
              "    .dataframe tbody tr th {\n",
              "        vertical-align: top;\n",
              "    }\n",
              "\n",
              "    .dataframe thead th {\n",
              "        text-align: right;\n",
              "    }\n",
              "</style>\n",
              "<table border=\"1\" class=\"dataframe\">\n",
              "  <thead>\n",
              "    <tr style=\"text-align: right;\">\n",
              "      <th></th>\n",
              "      <th>Métodos</th>\n",
              "      <th>Média</th>\n",
              "      <th>STD</th>\n",
              "      <th>Limite Inferior</th>\n",
              "      <th>Limite Superior</th>\n",
              "    </tr>\n",
              "  </thead>\n",
              "  <tbody>\n",
              "    <tr>\n",
              "      <th>0</th>\n",
              "      <td>Baggind</td>\n",
              "      <td>0.962418</td>\n",
              "      <td>0.0601091</td>\n",
              "      <td>0.940909</td>\n",
              "      <td>0.983928</td>\n",
              "    </tr>\n",
              "    <tr>\n",
              "      <th>1</th>\n",
              "      <td>Adaboost</td>\n",
              "      <td>0.912309</td>\n",
              "      <td>0.0715136</td>\n",
              "      <td>0.886719</td>\n",
              "      <td>0.9379</td>\n",
              "    </tr>\n",
              "    <tr>\n",
              "      <th>2</th>\n",
              "      <td>RandomForest</td>\n",
              "      <td>0.983115</td>\n",
              "      <td>0.0328219</td>\n",
              "      <td>0.971371</td>\n",
              "      <td>0.99486</td>\n",
              "    </tr>\n",
              "    <tr>\n",
              "      <th>3</th>\n",
              "      <td>Heterogeneous</td>\n",
              "      <td>0.966231</td>\n",
              "      <td>0.0471867</td>\n",
              "      <td>0.949346</td>\n",
              "      <td>0.983116</td>\n",
              "    </tr>\n",
              "  </tbody>\n",
              "</table>\n",
              "</div>"
            ],
            "text/plain": [
              "         Métodos     Média        STD Limite Inferior Limite Superior\n",
              "0        Baggind  0.962418  0.0601091        0.940909        0.983928\n",
              "1       Adaboost  0.912309  0.0715136        0.886719          0.9379\n",
              "2   RandomForest  0.983115  0.0328219        0.971371         0.99486\n",
              "3  Heterogeneous  0.966231  0.0471867        0.949346        0.983116"
            ]
          },
          "metadata": {
            "tags": []
          },
          "execution_count": 25
        }
      ]
    },
    {
      "cell_type": "code",
      "metadata": {
        "colab": {
          "base_uri": "https://localhost:8080/",
          "height": 542
        },
        "id": "vbXEDebdaeLm",
        "outputId": "ec636740-66b3-4d34-fcc7-f6b442d648d4"
      },
      "source": [
        "import plotly.graph_objects as go\n",
        "scores = [bagScores, adaScores, rfScores, hpScores]\n",
        "scoresNames = ['Bagging', 'AdaBoost', 'RandomForest', 'Heterogeneous Polling']\n",
        "fig = go.Figure()\n",
        "for i in range(len(scores)):\n",
        "  fig.add_trace(go.Box(y=scores[i], name=scoresNames[i]))\n",
        "fig.update_layout(\n",
        "    yaxis_title='Acurácia',\n",
        "    xaxis_title='Modelos',\n",
        "    title='Wine - Desempenho dos Modelos  - Acurácia',\n",
        ")\n",
        "fig.show()"
      ],
      "execution_count": 28,
      "outputs": [
        {
          "output_type": "display_data",
          "data": {
            "text/html": [
              "<html>\n",
              "<head><meta charset=\"utf-8\" /></head>\n",
              "<body>\n",
              "    <div>\n",
              "            <script src=\"https://cdnjs.cloudflare.com/ajax/libs/mathjax/2.7.5/MathJax.js?config=TeX-AMS-MML_SVG\"></script><script type=\"text/javascript\">if (window.MathJax) {MathJax.Hub.Config({SVG: {font: \"STIX-Web\"}});}</script>\n",
              "                <script type=\"text/javascript\">window.PlotlyConfig = {MathJaxConfig: 'local'};</script>\n",
              "        <script src=\"https://cdn.plot.ly/plotly-latest.min.js\"></script>    \n",
              "            <div id=\"d8c477bf-211e-4ee1-9142-ce02346c3202\" class=\"plotly-graph-div\" style=\"height:525px; width:100%;\"></div>\n",
              "            <script type=\"text/javascript\">\n",
              "                \n",
              "                    window.PLOTLYENV=window.PLOTLYENV || {};\n",
              "                    \n",
              "                if (document.getElementById(\"d8c477bf-211e-4ee1-9142-ce02346c3202\")) {\n",
              "                    Plotly.newPlot(\n",
              "                        'd8c477bf-211e-4ee1-9142-ce02346c3202',\n",
              "                        [{\"name\": \"Bagging\", \"type\": \"box\", \"y\": [1.0, 1.0, 0.9444444444444444, 1.0, 0.7777777777777778, 1.0, 1.0, 1.0, 0.8823529411764706, 0.9411764705882353, 1.0, 1.0, 1.0, 1.0, 1.0, 0.7777777777777778, 1.0, 0.9444444444444444, 0.9411764705882353, 0.9411764705882353, 0.9444444444444444, 1.0, 1.0, 0.9444444444444444, 1.0, 0.8888888888888888, 1.0, 0.9444444444444444, 1.0, 1.0]}, {\"name\": \"AdaBoost\", \"type\": \"box\", \"y\": [0.8888888888888888, 0.8888888888888888, 0.9444444444444444, 1.0, 0.8888888888888888, 0.9444444444444444, 0.8333333333333334, 1.0, 0.9411764705882353, 0.9411764705882353, 0.7222222222222222, 0.8333333333333334, 0.8888888888888888, 0.9444444444444444, 1.0, 0.8888888888888888, 0.8888888888888888, 0.8888888888888888, 0.9411764705882353, 1.0, 1.0, 1.0, 0.8333333333333334, 0.9444444444444444, 0.9444444444444444, 0.8333333333333334, 0.7777777777777778, 0.9444444444444444, 0.8235294117647058, 1.0]}, {\"name\": \"RandomForest\", \"type\": \"box\", \"y\": [1.0, 1.0, 1.0, 1.0, 0.8888888888888888, 1.0, 1.0, 0.9444444444444444, 1.0, 0.9411764705882353, 1.0, 1.0, 1.0, 1.0, 1.0, 0.8888888888888888, 1.0, 1.0, 1.0, 1.0, 0.9444444444444444, 1.0, 1.0, 1.0, 1.0, 1.0, 1.0, 0.9444444444444444, 0.9411764705882353, 1.0]}, {\"name\": \"Heterogeneous Polling\", \"type\": \"box\", \"y\": [1.0, 0.9444444444444444, 1.0, 1.0, 0.8333333333333334, 1.0, 1.0, 1.0, 1.0, 0.8823529411764706, 1.0, 0.9444444444444444, 1.0, 1.0, 1.0, 0.8333333333333334, 0.9444444444444444, 1.0, 1.0, 0.9411764705882353, 0.9444444444444444, 1.0, 0.9444444444444444, 0.9444444444444444, 1.0, 0.9444444444444444, 1.0, 0.9444444444444444, 0.9411764705882353, 1.0]}],\n",
              "                        {\"template\": {\"data\": {\"bar\": [{\"error_x\": {\"color\": \"#2a3f5f\"}, \"error_y\": {\"color\": \"#2a3f5f\"}, \"marker\": {\"line\": {\"color\": \"#E5ECF6\", \"width\": 0.5}}, \"type\": \"bar\"}], \"barpolar\": [{\"marker\": {\"line\": {\"color\": \"#E5ECF6\", \"width\": 0.5}}, \"type\": \"barpolar\"}], \"carpet\": [{\"aaxis\": {\"endlinecolor\": \"#2a3f5f\", \"gridcolor\": \"white\", \"linecolor\": \"white\", \"minorgridcolor\": \"white\", \"startlinecolor\": \"#2a3f5f\"}, \"baxis\": {\"endlinecolor\": \"#2a3f5f\", \"gridcolor\": \"white\", \"linecolor\": \"white\", \"minorgridcolor\": \"white\", \"startlinecolor\": \"#2a3f5f\"}, \"type\": \"carpet\"}], \"choropleth\": [{\"colorbar\": {\"outlinewidth\": 0, \"ticks\": \"\"}, \"type\": \"choropleth\"}], \"contour\": [{\"colorbar\": {\"outlinewidth\": 0, \"ticks\": \"\"}, \"colorscale\": [[0.0, \"#0d0887\"], [0.1111111111111111, \"#46039f\"], [0.2222222222222222, \"#7201a8\"], [0.3333333333333333, \"#9c179e\"], [0.4444444444444444, \"#bd3786\"], [0.5555555555555556, \"#d8576b\"], [0.6666666666666666, \"#ed7953\"], [0.7777777777777778, \"#fb9f3a\"], [0.8888888888888888, \"#fdca26\"], [1.0, \"#f0f921\"]], \"type\": \"contour\"}], \"contourcarpet\": [{\"colorbar\": {\"outlinewidth\": 0, \"ticks\": \"\"}, \"type\": \"contourcarpet\"}], \"heatmap\": [{\"colorbar\": {\"outlinewidth\": 0, \"ticks\": \"\"}, \"colorscale\": [[0.0, \"#0d0887\"], [0.1111111111111111, \"#46039f\"], [0.2222222222222222, \"#7201a8\"], [0.3333333333333333, \"#9c179e\"], [0.4444444444444444, \"#bd3786\"], [0.5555555555555556, \"#d8576b\"], [0.6666666666666666, \"#ed7953\"], [0.7777777777777778, \"#fb9f3a\"], [0.8888888888888888, \"#fdca26\"], [1.0, \"#f0f921\"]], \"type\": \"heatmap\"}], \"heatmapgl\": [{\"colorbar\": {\"outlinewidth\": 0, \"ticks\": \"\"}, \"colorscale\": [[0.0, \"#0d0887\"], [0.1111111111111111, \"#46039f\"], [0.2222222222222222, \"#7201a8\"], [0.3333333333333333, \"#9c179e\"], [0.4444444444444444, \"#bd3786\"], [0.5555555555555556, \"#d8576b\"], [0.6666666666666666, \"#ed7953\"], [0.7777777777777778, \"#fb9f3a\"], [0.8888888888888888, \"#fdca26\"], [1.0, \"#f0f921\"]], \"type\": \"heatmapgl\"}], \"histogram\": [{\"marker\": {\"colorbar\": {\"outlinewidth\": 0, \"ticks\": \"\"}}, \"type\": \"histogram\"}], \"histogram2d\": [{\"colorbar\": {\"outlinewidth\": 0, \"ticks\": \"\"}, \"colorscale\": [[0.0, \"#0d0887\"], [0.1111111111111111, \"#46039f\"], [0.2222222222222222, \"#7201a8\"], [0.3333333333333333, \"#9c179e\"], [0.4444444444444444, \"#bd3786\"], [0.5555555555555556, \"#d8576b\"], [0.6666666666666666, \"#ed7953\"], [0.7777777777777778, \"#fb9f3a\"], [0.8888888888888888, \"#fdca26\"], [1.0, \"#f0f921\"]], \"type\": \"histogram2d\"}], \"histogram2dcontour\": [{\"colorbar\": {\"outlinewidth\": 0, \"ticks\": \"\"}, \"colorscale\": [[0.0, \"#0d0887\"], [0.1111111111111111, \"#46039f\"], [0.2222222222222222, \"#7201a8\"], [0.3333333333333333, \"#9c179e\"], [0.4444444444444444, \"#bd3786\"], [0.5555555555555556, \"#d8576b\"], [0.6666666666666666, \"#ed7953\"], [0.7777777777777778, \"#fb9f3a\"], [0.8888888888888888, \"#fdca26\"], [1.0, \"#f0f921\"]], \"type\": \"histogram2dcontour\"}], \"mesh3d\": [{\"colorbar\": {\"outlinewidth\": 0, \"ticks\": \"\"}, \"type\": \"mesh3d\"}], \"parcoords\": [{\"line\": {\"colorbar\": {\"outlinewidth\": 0, \"ticks\": \"\"}}, \"type\": \"parcoords\"}], \"pie\": [{\"automargin\": true, \"type\": \"pie\"}], \"scatter\": [{\"marker\": {\"colorbar\": {\"outlinewidth\": 0, \"ticks\": \"\"}}, \"type\": \"scatter\"}], \"scatter3d\": [{\"line\": {\"colorbar\": {\"outlinewidth\": 0, \"ticks\": \"\"}}, \"marker\": {\"colorbar\": {\"outlinewidth\": 0, \"ticks\": \"\"}}, \"type\": \"scatter3d\"}], \"scattercarpet\": [{\"marker\": {\"colorbar\": {\"outlinewidth\": 0, \"ticks\": \"\"}}, \"type\": \"scattercarpet\"}], \"scattergeo\": [{\"marker\": {\"colorbar\": {\"outlinewidth\": 0, \"ticks\": \"\"}}, \"type\": \"scattergeo\"}], \"scattergl\": [{\"marker\": {\"colorbar\": {\"outlinewidth\": 0, \"ticks\": \"\"}}, \"type\": \"scattergl\"}], \"scattermapbox\": [{\"marker\": {\"colorbar\": {\"outlinewidth\": 0, \"ticks\": \"\"}}, \"type\": \"scattermapbox\"}], \"scatterpolar\": [{\"marker\": {\"colorbar\": {\"outlinewidth\": 0, \"ticks\": \"\"}}, \"type\": \"scatterpolar\"}], \"scatterpolargl\": [{\"marker\": {\"colorbar\": {\"outlinewidth\": 0, \"ticks\": \"\"}}, \"type\": \"scatterpolargl\"}], \"scatterternary\": [{\"marker\": {\"colorbar\": {\"outlinewidth\": 0, \"ticks\": \"\"}}, \"type\": \"scatterternary\"}], \"surface\": [{\"colorbar\": {\"outlinewidth\": 0, \"ticks\": \"\"}, \"colorscale\": [[0.0, \"#0d0887\"], [0.1111111111111111, \"#46039f\"], [0.2222222222222222, \"#7201a8\"], [0.3333333333333333, \"#9c179e\"], [0.4444444444444444, \"#bd3786\"], [0.5555555555555556, \"#d8576b\"], [0.6666666666666666, \"#ed7953\"], [0.7777777777777778, \"#fb9f3a\"], [0.8888888888888888, \"#fdca26\"], [1.0, \"#f0f921\"]], \"type\": \"surface\"}], \"table\": [{\"cells\": {\"fill\": {\"color\": \"#EBF0F8\"}, \"line\": {\"color\": \"white\"}}, \"header\": {\"fill\": {\"color\": \"#C8D4E3\"}, \"line\": {\"color\": \"white\"}}, \"type\": \"table\"}]}, \"layout\": {\"annotationdefaults\": {\"arrowcolor\": \"#2a3f5f\", \"arrowhead\": 0, \"arrowwidth\": 1}, \"coloraxis\": {\"colorbar\": {\"outlinewidth\": 0, \"ticks\": \"\"}}, \"colorscale\": {\"diverging\": [[0, \"#8e0152\"], [0.1, \"#c51b7d\"], [0.2, \"#de77ae\"], [0.3, \"#f1b6da\"], [0.4, \"#fde0ef\"], [0.5, \"#f7f7f7\"], [0.6, \"#e6f5d0\"], [0.7, \"#b8e186\"], [0.8, \"#7fbc41\"], [0.9, \"#4d9221\"], [1, \"#276419\"]], \"sequential\": [[0.0, \"#0d0887\"], [0.1111111111111111, \"#46039f\"], [0.2222222222222222, \"#7201a8\"], [0.3333333333333333, \"#9c179e\"], [0.4444444444444444, \"#bd3786\"], [0.5555555555555556, \"#d8576b\"], [0.6666666666666666, \"#ed7953\"], [0.7777777777777778, \"#fb9f3a\"], [0.8888888888888888, \"#fdca26\"], [1.0, \"#f0f921\"]], \"sequentialminus\": [[0.0, \"#0d0887\"], [0.1111111111111111, \"#46039f\"], [0.2222222222222222, \"#7201a8\"], [0.3333333333333333, \"#9c179e\"], [0.4444444444444444, \"#bd3786\"], [0.5555555555555556, \"#d8576b\"], [0.6666666666666666, \"#ed7953\"], [0.7777777777777778, \"#fb9f3a\"], [0.8888888888888888, \"#fdca26\"], [1.0, \"#f0f921\"]]}, \"colorway\": [\"#636efa\", \"#EF553B\", \"#00cc96\", \"#ab63fa\", \"#FFA15A\", \"#19d3f3\", \"#FF6692\", \"#B6E880\", \"#FF97FF\", \"#FECB52\"], \"font\": {\"color\": \"#2a3f5f\"}, \"geo\": {\"bgcolor\": \"white\", \"lakecolor\": \"white\", \"landcolor\": \"#E5ECF6\", \"showlakes\": true, \"showland\": true, \"subunitcolor\": \"white\"}, \"hoverlabel\": {\"align\": \"left\"}, \"hovermode\": \"closest\", \"mapbox\": {\"style\": \"light\"}, \"paper_bgcolor\": \"white\", \"plot_bgcolor\": \"#E5ECF6\", \"polar\": {\"angularaxis\": {\"gridcolor\": \"white\", \"linecolor\": \"white\", \"ticks\": \"\"}, \"bgcolor\": \"#E5ECF6\", \"radialaxis\": {\"gridcolor\": \"white\", \"linecolor\": \"white\", \"ticks\": \"\"}}, \"scene\": {\"xaxis\": {\"backgroundcolor\": \"#E5ECF6\", \"gridcolor\": \"white\", \"gridwidth\": 2, \"linecolor\": \"white\", \"showbackground\": true, \"ticks\": \"\", \"zerolinecolor\": \"white\"}, \"yaxis\": {\"backgroundcolor\": \"#E5ECF6\", \"gridcolor\": \"white\", \"gridwidth\": 2, \"linecolor\": \"white\", \"showbackground\": true, \"ticks\": \"\", \"zerolinecolor\": \"white\"}, \"zaxis\": {\"backgroundcolor\": \"#E5ECF6\", \"gridcolor\": \"white\", \"gridwidth\": 2, \"linecolor\": \"white\", \"showbackground\": true, \"ticks\": \"\", \"zerolinecolor\": \"white\"}}, \"shapedefaults\": {\"line\": {\"color\": \"#2a3f5f\"}}, \"ternary\": {\"aaxis\": {\"gridcolor\": \"white\", \"linecolor\": \"white\", \"ticks\": \"\"}, \"baxis\": {\"gridcolor\": \"white\", \"linecolor\": \"white\", \"ticks\": \"\"}, \"bgcolor\": \"#E5ECF6\", \"caxis\": {\"gridcolor\": \"white\", \"linecolor\": \"white\", \"ticks\": \"\"}}, \"title\": {\"x\": 0.05}, \"xaxis\": {\"automargin\": true, \"gridcolor\": \"white\", \"linecolor\": \"white\", \"ticks\": \"\", \"title\": {\"standoff\": 15}, \"zerolinecolor\": \"white\", \"zerolinewidth\": 2}, \"yaxis\": {\"automargin\": true, \"gridcolor\": \"white\", \"linecolor\": \"white\", \"ticks\": \"\", \"title\": {\"standoff\": 15}, \"zerolinecolor\": \"white\", \"zerolinewidth\": 2}}}, \"title\": {\"text\": \"Wine - Desempenho dos Modelos  - Acur\\u00e1cia\"}, \"xaxis\": {\"title\": {\"text\": \"Modelos\"}}, \"yaxis\": {\"title\": {\"text\": \"Acur\\u00e1cia\"}}},\n",
              "                        {\"responsive\": true}\n",
              "                    ).then(function(){\n",
              "                            \n",
              "var gd = document.getElementById('d8c477bf-211e-4ee1-9142-ce02346c3202');\n",
              "var x = new MutationObserver(function (mutations, observer) {{\n",
              "        var display = window.getComputedStyle(gd).display;\n",
              "        if (!display || display === 'none') {{\n",
              "            console.log([gd, 'removed!']);\n",
              "            Plotly.purge(gd);\n",
              "            observer.disconnect();\n",
              "        }}\n",
              "}});\n",
              "\n",
              "// Listen for the removal of the full notebook cells\n",
              "var notebookContainer = gd.closest('#notebook-container');\n",
              "if (notebookContainer) {{\n",
              "    x.observe(notebookContainer, {childList: true});\n",
              "}}\n",
              "\n",
              "// Listen for the clearing of the current output cell\n",
              "var outputEl = gd.closest('.output');\n",
              "if (outputEl) {{\n",
              "    x.observe(outputEl, {childList: true});\n",
              "}}\n",
              "\n",
              "                        })\n",
              "                };\n",
              "                \n",
              "            </script>\n",
              "        </div>\n",
              "</body>\n",
              "</html>"
            ]
          },
          "metadata": {
            "tags": []
          }
        }
      ]
    },
    {
      "cell_type": "markdown",
      "metadata": {
        "id": "h-tBcLoMaeLm"
      },
      "source": [
        "## Teste Pareado"
      ]
    },
    {
      "cell_type": "code",
      "metadata": {
        "colab": {
          "base_uri": "https://localhost:8080/",
          "height": 785
        },
        "id": "IgRG82wuaeLm",
        "outputId": "e3cda963-2ee0-420c-b8fe-333eabf05679"
      },
      "source": [
        "from scipy.stats import ttest_rel, wilcoxon\n",
        "scores = [bagScores, adaScores, rfScores, hpScores]\n",
        "scoresNames = ['Bagging', 'AdaBoost', 'RandomForest', 'Heterogeneous Polling']\n",
        "dfPairTest = pd.DataFrame(columns=[0,1,2,3])\n",
        "for i in range(len(scores)):\n",
        "  for j in range(len(scores)):\n",
        "    if j == i:\n",
        "       dfPairTest.at[i, j] = scoresNames[i]\n",
        "    \n",
        "    if j > i:\n",
        "      print('Paired T Test', scoresNames[i], scoresNames[j])\n",
        "      s,p = ttest_rel(scores[i],scores[j])\n",
        "      print(\"t: %0.2f p-value: %0.8f\\n\" % (s,p))\n",
        "      dfPairTest.at[i, j] = p\n",
        "      # dfPairTest.iloc[i][j] = p\n",
        "    # print(\"t:\",(s,p))\n",
        "\n",
        "    if j < i :\n",
        "      print ('Wilcoxon Test', scoresNames[i], scoresNames[j])\n",
        "      s,p = wilcoxon (scores[i],scores[j])\n",
        "      print(\"w: %0.2f p-value: %0.8f\\n\" % (s,p))\n",
        "      dfPairTest.at[i, j] = p\n",
        "      # dfPairTest.iloc[i][j] = p\n",
        "# print(\"w: \",  (s,p))\n",
        "dfPairTest.columns = ['T1','T2','T3','T4']\n",
        "dfPairTest.index = ['w1', 'w2', 'w3', 'w4']\n",
        "dfPairTest"
      ],
      "execution_count": 27,
      "outputs": [
        {
          "output_type": "stream",
          "text": [
            "Paired T Test Bagging AdaBoost\n",
            "t: 2.87 p-value: 0.00758514\n",
            "\n",
            "Paired T Test Bagging RandomForest\n",
            "t: -2.48 p-value: 0.01933337\n",
            "\n",
            "Paired T Test Bagging Heterogeneous Polling\n",
            "t: -0.50 p-value: 0.62416289\n",
            "\n",
            "Wilcoxon Test AdaBoost Bagging\n",
            "w: 38.00 p-value: 0.01210153\n",
            "\n",
            "Paired T Test AdaBoost RandomForest\n",
            "t: -4.77 p-value: 0.00004747\n",
            "\n",
            "Paired T Test AdaBoost Heterogeneous Polling\n",
            "t: -3.59 p-value: 0.00121271\n",
            "\n",
            "Wilcoxon Test RandomForest Bagging\n",
            "w: 8.50 p-value: 0.02818936\n",
            "\n",
            "Wilcoxon Test RandomForest AdaBoost\n",
            "w: 8.00 p-value: 0.00016908\n",
            "\n",
            "Paired T Test RandomForest Heterogeneous Polling\n",
            "t: 3.08 p-value: 0.00449968\n",
            "\n",
            "Wilcoxon Test Heterogeneous Polling Bagging\n",
            "w: 42.00 p-value: 0.79917162\n",
            "\n",
            "Wilcoxon Test Heterogeneous Polling AdaBoost\n",
            "w: 32.00 p-value: 0.00120347\n",
            "\n",
            "Wilcoxon Test Heterogeneous Polling RandomForest\n",
            "w: 6.00 p-value: 0.01341754\n",
            "\n"
          ],
          "name": "stdout"
        },
        {
          "output_type": "execute_result",
          "data": {
            "text/html": [
              "<div>\n",
              "<style scoped>\n",
              "    .dataframe tbody tr th:only-of-type {\n",
              "        vertical-align: middle;\n",
              "    }\n",
              "\n",
              "    .dataframe tbody tr th {\n",
              "        vertical-align: top;\n",
              "    }\n",
              "\n",
              "    .dataframe thead th {\n",
              "        text-align: right;\n",
              "    }\n",
              "</style>\n",
              "<table border=\"1\" class=\"dataframe\">\n",
              "  <thead>\n",
              "    <tr style=\"text-align: right;\">\n",
              "      <th></th>\n",
              "      <th>T1</th>\n",
              "      <th>T2</th>\n",
              "      <th>T3</th>\n",
              "      <th>T4</th>\n",
              "    </tr>\n",
              "  </thead>\n",
              "  <tbody>\n",
              "    <tr>\n",
              "      <th>w1</th>\n",
              "      <td>Bagging</td>\n",
              "      <td>0.00758514</td>\n",
              "      <td>0.0193334</td>\n",
              "      <td>0.624163</td>\n",
              "    </tr>\n",
              "    <tr>\n",
              "      <th>w2</th>\n",
              "      <td>0.0121015</td>\n",
              "      <td>AdaBoost</td>\n",
              "      <td>4.74684e-05</td>\n",
              "      <td>0.00121271</td>\n",
              "    </tr>\n",
              "    <tr>\n",
              "      <th>w3</th>\n",
              "      <td>0.0281894</td>\n",
              "      <td>0.000169075</td>\n",
              "      <td>RandomForest</td>\n",
              "      <td>0.00449968</td>\n",
              "    </tr>\n",
              "    <tr>\n",
              "      <th>w4</th>\n",
              "      <td>0.799172</td>\n",
              "      <td>0.00120347</td>\n",
              "      <td>0.0134175</td>\n",
              "      <td>Heterogeneous Polling</td>\n",
              "    </tr>\n",
              "  </tbody>\n",
              "</table>\n",
              "</div>"
            ],
            "text/plain": [
              "           T1           T2            T3                     T4\n",
              "w1    Bagging   0.00758514     0.0193334               0.624163\n",
              "w2  0.0121015     AdaBoost   4.74684e-05             0.00121271\n",
              "w3  0.0281894  0.000169075  RandomForest             0.00449968\n",
              "w4   0.799172   0.00120347     0.0134175  Heterogeneous Polling"
            ]
          },
          "metadata": {
            "tags": []
          },
          "execution_count": 27
        }
      ]
    },
    {
      "cell_type": "markdown",
      "metadata": {
        "id": "L2p3TWAOcIU0"
      },
      "source": [
        "# Bases de Dados - Breast Cancer"
      ]
    },
    {
      "cell_type": "markdown",
      "metadata": {
        "id": "Yf_W8-6jcIVA"
      },
      "source": [
        "## Classificadores"
      ]
    },
    {
      "cell_type": "markdown",
      "metadata": {
        "id": "SoOV-G6FcIVA"
      },
      "source": [
        "### Bagging"
      ]
    },
    {
      "cell_type": "code",
      "metadata": {
        "colab": {
          "base_uri": "https://localhost:8080/",
          "height": 35
        },
        "id": "iEAF97xUcIVA",
        "outputId": "c0f0fa64-9e74-4be4-efc4-22af5703dc0d"
      },
      "source": [
        "# Define DataBase\n",
        "dataBase = datasets.load_breast_cancer()\n",
        "dataBase.DESCR[4:18]"
      ],
      "execution_count": 29,
      "outputs": [
        {
          "output_type": "execute_result",
          "data": {
            "application/vnd.google.colaboratory.intrinsic+json": {
              "type": "string"
            },
            "text/plain": [
              "'breast_cancer_'"
            ]
          },
          "metadata": {
            "tags": []
          },
          "execution_count": 29
        }
      ]
    },
    {
      "cell_type": "code",
      "metadata": {
        "id": "iK-53Ue0cIVB"
      },
      "source": [
        "# define the model\n",
        "bagging = BaggingClassifier()"
      ],
      "execution_count": 30,
      "outputs": []
    },
    {
      "cell_type": "code",
      "metadata": {
        "colab": {
          "base_uri": "https://localhost:8080/"
        },
        "id": "EqMoDT5NcIVB",
        "outputId": "585c3db4-c391-4775-e952-8f554cc63b2a"
      },
      "source": [
        "grid = {'estimator__n_estimators': [10, 25, 50, 100]}\n",
        "model = bagging\n",
        "print('Model Evaluate... BaggingClassifier')\n",
        "bagScores = GridTestModel(dataBase, model, grid)"
      ],
      "execution_count": 31,
      "outputs": [
        {
          "output_type": "stream",
          "text": [
            "Model Evaluate... BaggingClassifier\n",
            "Done\n"
          ],
          "name": "stdout"
        }
      ]
    },
    {
      "cell_type": "code",
      "metadata": {
        "colab": {
          "base_uri": "https://localhost:8080/"
        },
        "id": "qmA8g7yJcIVB",
        "outputId": "11be187d-5f50-4831-f78e-775dad70e708"
      },
      "source": [
        "# Resultados\n",
        "print('****** Resultados ******\\n')\n",
        "print('Base de Dados: ', dataBase.DESCR[4:18])\n",
        "print('Modelo - ', str(model)[0:17], '\\n')\n",
        "bag_mean, bag_std, bag_inf, bag_sup = getResults(bagScores)\n",
        "# dfResultClassifier.iloc[0] = ['Baggind', bag_mean, bag_std, bag_inf, bag_sup]\n",
        "# dfResultClassifier"
      ],
      "execution_count": 32,
      "outputs": [
        {
          "output_type": "stream",
          "text": [
            "****** Resultados ******\n",
            "\n",
            "Base de Dados:  breast_cancer_\n",
            "Modelo -  BaggingClassifier \n",
            "\n",
            "[0.98245614 0.92982456 0.94736842 0.96491228 1.         0.89473684\n",
            " 0.96491228 0.96491228 0.96491228 1.         0.96491228 0.94736842\n",
            " 1.         0.92982456 0.94736842 0.98245614 0.94736842 0.96491228\n",
            " 0.92982456 0.94642857 0.96491228 0.94736842 0.9122807  0.94736842\n",
            " 0.96491228 0.98245614 0.96491228 0.98245614 0.96491228 0.92857143]\n",
            "\n",
            "Mean Accuracy: 0.958 Standard Deviation: 0.025\n",
            "Accuracy Confidence Interval (95%): (0.95, 0.97)\n",
            "\n"
          ],
          "name": "stdout"
        }
      ]
    },
    {
      "cell_type": "code",
      "metadata": {
        "colab": {
          "base_uri": "https://localhost:8080/",
          "height": 173
        },
        "id": "WHqC-cbPcIVB",
        "outputId": "bd3e952f-87cb-4be6-d37e-d8b9b0e61dae"
      },
      "source": [
        "dfResultClassifier.iloc[0] = ['Baggind', bag_mean, bag_std, bag_inf, bag_sup]\n",
        "dfResultClassifier"
      ],
      "execution_count": 33,
      "outputs": [
        {
          "output_type": "execute_result",
          "data": {
            "text/html": [
              "<div>\n",
              "<style scoped>\n",
              "    .dataframe tbody tr th:only-of-type {\n",
              "        vertical-align: middle;\n",
              "    }\n",
              "\n",
              "    .dataframe tbody tr th {\n",
              "        vertical-align: top;\n",
              "    }\n",
              "\n",
              "    .dataframe thead th {\n",
              "        text-align: right;\n",
              "    }\n",
              "</style>\n",
              "<table border=\"1\" class=\"dataframe\">\n",
              "  <thead>\n",
              "    <tr style=\"text-align: right;\">\n",
              "      <th></th>\n",
              "      <th>Métodos</th>\n",
              "      <th>Média</th>\n",
              "      <th>STD</th>\n",
              "      <th>Limite Inferior</th>\n",
              "      <th>Limite Superior</th>\n",
              "    </tr>\n",
              "  </thead>\n",
              "  <tbody>\n",
              "    <tr>\n",
              "      <th>0</th>\n",
              "      <td>Baggind</td>\n",
              "      <td>0.957822</td>\n",
              "      <td>0.0247072</td>\n",
              "      <td>0.94898</td>\n",
              "      <td>0.966663</td>\n",
              "    </tr>\n",
              "    <tr>\n",
              "      <th>1</th>\n",
              "      <td>Adaboost</td>\n",
              "      <td>0.912309</td>\n",
              "      <td>0.0715136</td>\n",
              "      <td>0.886719</td>\n",
              "      <td>0.9379</td>\n",
              "    </tr>\n",
              "    <tr>\n",
              "      <th>2</th>\n",
              "      <td>RandomForest</td>\n",
              "      <td>0.983115</td>\n",
              "      <td>0.0328219</td>\n",
              "      <td>0.971371</td>\n",
              "      <td>0.99486</td>\n",
              "    </tr>\n",
              "    <tr>\n",
              "      <th>3</th>\n",
              "      <td>Heterogeneous</td>\n",
              "      <td>0.966231</td>\n",
              "      <td>0.0471867</td>\n",
              "      <td>0.949346</td>\n",
              "      <td>0.983116</td>\n",
              "    </tr>\n",
              "  </tbody>\n",
              "</table>\n",
              "</div>"
            ],
            "text/plain": [
              "         Métodos     Média        STD Limite Inferior Limite Superior\n",
              "0        Baggind  0.957822  0.0247072         0.94898        0.966663\n",
              "1       Adaboost  0.912309  0.0715136        0.886719          0.9379\n",
              "2   RandomForest  0.983115  0.0328219        0.971371         0.99486\n",
              "3  Heterogeneous  0.966231  0.0471867        0.949346        0.983116"
            ]
          },
          "metadata": {
            "tags": []
          },
          "execution_count": 33
        }
      ]
    },
    {
      "cell_type": "markdown",
      "metadata": {
        "id": "4iYr8AHpcIVC"
      },
      "source": [
        "### AdaBoost"
      ]
    },
    {
      "cell_type": "code",
      "metadata": {
        "colab": {
          "base_uri": "https://localhost:8080/",
          "height": 35
        },
        "id": "RVf_7VHocIVC",
        "outputId": "10172b19-03d2-430a-b88c-3fb75f1c523c"
      },
      "source": [
        "# Define DataBase\n",
        "dataBase = datasets.load_breast_cancer()\n",
        "dataBase.DESCR[4:18]"
      ],
      "execution_count": 34,
      "outputs": [
        {
          "output_type": "execute_result",
          "data": {
            "application/vnd.google.colaboratory.intrinsic+json": {
              "type": "string"
            },
            "text/plain": [
              "'breast_cancer_'"
            ]
          },
          "metadata": {
            "tags": []
          },
          "execution_count": 34
        }
      ]
    },
    {
      "cell_type": "code",
      "metadata": {
        "id": "bx9qg3g8cIVC"
      },
      "source": [
        "# define the Model\n",
        "adaBoost = AdaBoostClassifier()"
      ],
      "execution_count": 35,
      "outputs": []
    },
    {
      "cell_type": "code",
      "metadata": {
        "colab": {
          "base_uri": "https://localhost:8080/"
        },
        "id": "0EnH6m78cIVD",
        "outputId": "cc9c21e2-8435-4f5d-b574-1307aa397250"
      },
      "source": [
        "# Z-score, Train, Test, gridSearch, CrossValidation\n",
        "grid = {'estimator__n_estimators': [10, 25, 50, 100]}\n",
        "model = adaBoost\n",
        "print('Model Evaluate... AdaBoostClassifier')\n",
        "adaScores = GridTestModel(dataBase, model, grid)"
      ],
      "execution_count": 36,
      "outputs": [
        {
          "output_type": "stream",
          "text": [
            "Model Evaluate... AdaBoostClassifier\n",
            "Done\n"
          ],
          "name": "stdout"
        }
      ]
    },
    {
      "cell_type": "code",
      "metadata": {
        "colab": {
          "base_uri": "https://localhost:8080/"
        },
        "id": "i2Z5yrUbcIVD",
        "outputId": "0be8f5e7-925c-4987-e05c-5456329f9bad"
      },
      "source": [
        "# Resultados\n",
        "print('****** Resultados ******\\n')\n",
        "print('Base de Dados: ', dataBase.DESCR[4:18])\n",
        "print('Modelo - ', str(model)[0:18], '\\n')\n",
        "ada_mean, ada_std, ada_inf, ada_sup = getResults(adaScores)"
      ],
      "execution_count": 37,
      "outputs": [
        {
          "output_type": "stream",
          "text": [
            "****** Resultados ******\n",
            "\n",
            "Base de Dados:  breast_cancer_\n",
            "Modelo -  AdaBoostClassifier \n",
            "\n",
            "[0.98245614 0.98245614 0.96491228 0.96491228 1.         0.9122807\n",
            " 1.         0.96491228 0.92982456 0.98214286 0.98245614 0.98245614\n",
            " 1.         0.94736842 1.         0.98245614 0.92982456 0.96491228\n",
            " 0.92982456 0.96428571 0.96491228 0.94736842 0.94736842 0.94736842\n",
            " 0.94736842 1.         0.98245614 0.98245614 0.98245614 0.96428571]\n",
            "\n",
            "Mean Accuracy: 0.968 Standard Deviation: 0.024\n",
            "Accuracy Confidence Interval (95%): (0.96, 0.98)\n",
            "\n"
          ],
          "name": "stdout"
        }
      ]
    },
    {
      "cell_type": "code",
      "metadata": {
        "colab": {
          "base_uri": "https://localhost:8080/",
          "height": 173
        },
        "id": "ZLj_yyipcIVD",
        "outputId": "81a27fa5-d6e4-499f-8f8a-42ab2cc16112"
      },
      "source": [
        "dfResultClassifier.iloc[1] = ['Adaboost', ada_mean, ada_std, ada_inf, ada_sup]\n",
        "dfResultClassifier"
      ],
      "execution_count": 38,
      "outputs": [
        {
          "output_type": "execute_result",
          "data": {
            "text/html": [
              "<div>\n",
              "<style scoped>\n",
              "    .dataframe tbody tr th:only-of-type {\n",
              "        vertical-align: middle;\n",
              "    }\n",
              "\n",
              "    .dataframe tbody tr th {\n",
              "        vertical-align: top;\n",
              "    }\n",
              "\n",
              "    .dataframe thead th {\n",
              "        text-align: right;\n",
              "    }\n",
              "</style>\n",
              "<table border=\"1\" class=\"dataframe\">\n",
              "  <thead>\n",
              "    <tr style=\"text-align: right;\">\n",
              "      <th></th>\n",
              "      <th>Métodos</th>\n",
              "      <th>Média</th>\n",
              "      <th>STD</th>\n",
              "      <th>Limite Inferior</th>\n",
              "      <th>Limite Superior</th>\n",
              "    </tr>\n",
              "  </thead>\n",
              "  <tbody>\n",
              "    <tr>\n",
              "      <th>0</th>\n",
              "      <td>Baggind</td>\n",
              "      <td>0.957822</td>\n",
              "      <td>0.0247072</td>\n",
              "      <td>0.94898</td>\n",
              "      <td>0.966663</td>\n",
              "    </tr>\n",
              "    <tr>\n",
              "      <th>1</th>\n",
              "      <td>Adaboost</td>\n",
              "      <td>0.967784</td>\n",
              "      <td>0.0235731</td>\n",
              "      <td>0.959349</td>\n",
              "      <td>0.976219</td>\n",
              "    </tr>\n",
              "    <tr>\n",
              "      <th>2</th>\n",
              "      <td>RandomForest</td>\n",
              "      <td>0.983115</td>\n",
              "      <td>0.0328219</td>\n",
              "      <td>0.971371</td>\n",
              "      <td>0.99486</td>\n",
              "    </tr>\n",
              "    <tr>\n",
              "      <th>3</th>\n",
              "      <td>Heterogeneous</td>\n",
              "      <td>0.966231</td>\n",
              "      <td>0.0471867</td>\n",
              "      <td>0.949346</td>\n",
              "      <td>0.983116</td>\n",
              "    </tr>\n",
              "  </tbody>\n",
              "</table>\n",
              "</div>"
            ],
            "text/plain": [
              "         Métodos     Média        STD Limite Inferior Limite Superior\n",
              "0        Baggind  0.957822  0.0247072         0.94898        0.966663\n",
              "1       Adaboost  0.967784  0.0235731        0.959349        0.976219\n",
              "2   RandomForest  0.983115  0.0328219        0.971371         0.99486\n",
              "3  Heterogeneous  0.966231  0.0471867        0.949346        0.983116"
            ]
          },
          "metadata": {
            "tags": []
          },
          "execution_count": 38
        }
      ]
    },
    {
      "cell_type": "markdown",
      "metadata": {
        "id": "NI_bt_EXcIVD"
      },
      "source": [
        "### RandomForest"
      ]
    },
    {
      "cell_type": "code",
      "metadata": {
        "colab": {
          "base_uri": "https://localhost:8080/",
          "height": 35
        },
        "id": "9DR4tnDPcIVD",
        "outputId": "77b06de2-366a-4325-ad7b-357054ca121d"
      },
      "source": [
        "# Define DataBase\n",
        "dataBase = datasets.load_breast_cancer()\n",
        "dataBase.DESCR[4:18]"
      ],
      "execution_count": 39,
      "outputs": [
        {
          "output_type": "execute_result",
          "data": {
            "application/vnd.google.colaboratory.intrinsic+json": {
              "type": "string"
            },
            "text/plain": [
              "'breast_cancer_'"
            ]
          },
          "metadata": {
            "tags": []
          },
          "execution_count": 39
        }
      ]
    },
    {
      "cell_type": "code",
      "metadata": {
        "id": "MPC54wfYcIVE"
      },
      "source": [
        "# define the Model\n",
        "randomForest = RandomForestClassifier()"
      ],
      "execution_count": 40,
      "outputs": []
    },
    {
      "cell_type": "code",
      "metadata": {
        "colab": {
          "base_uri": "https://localhost:8080/"
        },
        "id": "BPf4ny81cIVE",
        "outputId": "dfeb06ec-36e4-4f63-d869-b9ee5b2d0c35"
      },
      "source": [
        "# Model Evaluate\n",
        "grid = {'estimator__n_estimators': [10, 25, 50, 100]}\n",
        "model = randomForest\n",
        "print('Model Evaluate... RandomForestClassifier')\n",
        "rfScores = GridTestModel(dataBase, model, grid)"
      ],
      "execution_count": 41,
      "outputs": [
        {
          "output_type": "stream",
          "text": [
            "Model Evaluate... RandomForestClassifier\n",
            "Done\n"
          ],
          "name": "stdout"
        }
      ]
    },
    {
      "cell_type": "code",
      "metadata": {
        "colab": {
          "base_uri": "https://localhost:8080/"
        },
        "id": "hWlDrsTwcIVE",
        "outputId": "132d5e6b-d1c0-42c6-ca5a-7977e370df0a"
      },
      "source": [
        "# Resultados\n",
        "print('****** Resultados ******\\n')\n",
        "print('Base de Dados: ', dataBase.DESCR[4:18])\n",
        "print('Modelo - ', str(model)[0:22], '\\n')\n",
        "rf_mean, rf_std, rf_inf, rf_sup = getResults(rfScores)"
      ],
      "execution_count": 42,
      "outputs": [
        {
          "output_type": "stream",
          "text": [
            "****** Resultados ******\n",
            "\n",
            "Base de Dados:  breast_cancer_\n",
            "Modelo -  RandomForestClassifier \n",
            "\n",
            "[0.98245614 0.92982456 0.94736842 0.96491228 0.98245614 0.92982456\n",
            " 0.98245614 0.98245614 0.92982456 0.92857143 0.96491228 0.96491228\n",
            " 1.         0.89473684 0.96491228 0.98245614 0.92982456 0.96491228\n",
            " 0.92982456 0.96428571 0.98245614 0.94736842 0.96491228 0.9122807\n",
            " 0.98245614 0.96491228 0.94736842 0.96491228 0.96491228 0.92857143]\n",
            "\n",
            "Mean Accuracy: 0.956 Standard Deviation: 0.025\n",
            "Accuracy Confidence Interval (95%): (0.95, 0.96)\n",
            "\n"
          ],
          "name": "stdout"
        }
      ]
    },
    {
      "cell_type": "code",
      "metadata": {
        "colab": {
          "base_uri": "https://localhost:8080/",
          "height": 173
        },
        "id": "jK0iQiPvcIVE",
        "outputId": "e4c24d3e-f254-4e63-d828-dcbe6e35bcf3"
      },
      "source": [
        "dfResultClassifier.iloc[2] = ['RandomForest', rf_mean, rf_std, rf_inf, rf_sup]\n",
        "dfResultClassifier"
      ],
      "execution_count": 43,
      "outputs": [
        {
          "output_type": "execute_result",
          "data": {
            "text/html": [
              "<div>\n",
              "<style scoped>\n",
              "    .dataframe tbody tr th:only-of-type {\n",
              "        vertical-align: middle;\n",
              "    }\n",
              "\n",
              "    .dataframe tbody tr th {\n",
              "        vertical-align: top;\n",
              "    }\n",
              "\n",
              "    .dataframe thead th {\n",
              "        text-align: right;\n",
              "    }\n",
              "</style>\n",
              "<table border=\"1\" class=\"dataframe\">\n",
              "  <thead>\n",
              "    <tr style=\"text-align: right;\">\n",
              "      <th></th>\n",
              "      <th>Métodos</th>\n",
              "      <th>Média</th>\n",
              "      <th>STD</th>\n",
              "      <th>Limite Inferior</th>\n",
              "      <th>Limite Superior</th>\n",
              "    </tr>\n",
              "  </thead>\n",
              "  <tbody>\n",
              "    <tr>\n",
              "      <th>0</th>\n",
              "      <td>Baggind</td>\n",
              "      <td>0.957822</td>\n",
              "      <td>0.0247072</td>\n",
              "      <td>0.94898</td>\n",
              "      <td>0.966663</td>\n",
              "    </tr>\n",
              "    <tr>\n",
              "      <th>1</th>\n",
              "      <td>Adaboost</td>\n",
              "      <td>0.967784</td>\n",
              "      <td>0.0235731</td>\n",
              "      <td>0.959349</td>\n",
              "      <td>0.976219</td>\n",
              "    </tr>\n",
              "    <tr>\n",
              "      <th>2</th>\n",
              "      <td>RandomForest</td>\n",
              "      <td>0.956036</td>\n",
              "      <td>0.0247908</td>\n",
              "      <td>0.947165</td>\n",
              "      <td>0.964907</td>\n",
              "    </tr>\n",
              "    <tr>\n",
              "      <th>3</th>\n",
              "      <td>Heterogeneous</td>\n",
              "      <td>0.966231</td>\n",
              "      <td>0.0471867</td>\n",
              "      <td>0.949346</td>\n",
              "      <td>0.983116</td>\n",
              "    </tr>\n",
              "  </tbody>\n",
              "</table>\n",
              "</div>"
            ],
            "text/plain": [
              "         Métodos     Média        STD Limite Inferior Limite Superior\n",
              "0        Baggind  0.957822  0.0247072         0.94898        0.966663\n",
              "1       Adaboost  0.967784  0.0235731        0.959349        0.976219\n",
              "2   RandomForest  0.956036  0.0247908        0.947165        0.964907\n",
              "3  Heterogeneous  0.966231  0.0471867        0.949346        0.983116"
            ]
          },
          "metadata": {
            "tags": []
          },
          "execution_count": 43
        }
      ]
    },
    {
      "cell_type": "markdown",
      "metadata": {
        "id": "18eBmOCHcIVF"
      },
      "source": [
        "### HeterogeneousPooling"
      ]
    },
    {
      "cell_type": "code",
      "metadata": {
        "colab": {
          "base_uri": "https://localhost:8080/",
          "height": 35
        },
        "id": "pNKv4DDPcIVF",
        "outputId": "59f30943-8a65-4138-fca7-50c6cdf37641"
      },
      "source": [
        "# Define DataBase\n",
        "dataBase = datasets.load_breast_cancer()\n",
        "dataBase.DESCR[4:18]"
      ],
      "execution_count": 44,
      "outputs": [
        {
          "output_type": "execute_result",
          "data": {
            "application/vnd.google.colaboratory.intrinsic+json": {
              "type": "string"
            },
            "text/plain": [
              "'breast_cancer_'"
            ]
          },
          "metadata": {
            "tags": []
          },
          "execution_count": 44
        }
      ]
    },
    {
      "cell_type": "code",
      "metadata": {
        "id": "-t3vx5m1cIVF"
      },
      "source": [
        "# define the model\n",
        "HeterogeneousModel = HeterogeneousClassifier()"
      ],
      "execution_count": 45,
      "outputs": []
    },
    {
      "cell_type": "code",
      "metadata": {
        "colab": {
          "base_uri": "https://localhost:8080/"
        },
        "id": "mjn1_Z2lcIVF",
        "outputId": "8a1426f3-5773-4aca-daee-550aae339a0b"
      },
      "source": [
        "# Model Evaluate\n",
        "grid = {'estimator__n_samples': [1,3,5,7]}\n",
        "model = HeterogeneousModel\n",
        "print('Model Evaluate... Heterogeneous Classifier')\n",
        "hpScores = GridTestModel(dataBase, model, grid)"
      ],
      "execution_count": 46,
      "outputs": [
        {
          "output_type": "stream",
          "text": [
            "Model Evaluate... Heterogeneous Classifier\n",
            "Done\n"
          ],
          "name": "stdout"
        }
      ]
    },
    {
      "cell_type": "code",
      "metadata": {
        "colab": {
          "base_uri": "https://localhost:8080/"
        },
        "id": "tAkmUeVvcIVF",
        "outputId": "0a74c720-0630-4d48-a9d3-bfc8460672a6"
      },
      "source": [
        "# Resultados\n",
        "print('****** Resultados ******\\n')\n",
        "print('Base de Dados: ', dataBase.DESCR[4:18])\n",
        "print('Modelo - ', str(model)[0:23], '\\n')\n",
        "hp_mean, hp_std, hp_inf, hp_sup = getResults(hpScores)"
      ],
      "execution_count": 47,
      "outputs": [
        {
          "output_type": "stream",
          "text": [
            "****** Resultados ******\n",
            "\n",
            "Base de Dados:  breast_cancer_\n",
            "Modelo -  HeterogeneousClassifier \n",
            "\n",
            "[1.         0.92982456 0.94736842 0.9122807  0.96491228 0.92982456\n",
            " 0.96491228 0.98245614 0.94736842 0.96428571 0.94736842 1.\n",
            " 0.96491228 0.92982456 0.98245614 0.98245614 0.92982456 0.92982456\n",
            " 0.87719298 0.94642857 0.94736842 0.98245614 0.92982456 0.96491228\n",
            " 0.94736842 0.98245614 0.94736842 0.94736842 0.96491228 0.91071429]\n",
            "\n",
            "Mean Accuracy: 0.952 Standard Deviation: 0.027\n",
            "Accuracy Confidence Interval (95%): (0.94, 0.96)\n",
            "\n"
          ],
          "name": "stdout"
        }
      ]
    },
    {
      "cell_type": "markdown",
      "metadata": {
        "id": "w6TgIQ2ScIVF"
      },
      "source": [
        "## Resultados Classificadores Acurácia"
      ]
    },
    {
      "cell_type": "code",
      "metadata": {
        "colab": {
          "base_uri": "https://localhost:8080/",
          "height": 173
        },
        "id": "1OCduuqqcIVG",
        "outputId": "15321f8a-90a6-4541-c5a3-339eaa54db1b"
      },
      "source": [
        "dfResultClassifier.iloc[3] = ['Heterogeneous', hp_mean, hp_std, hp_inf, hp_sup]\n",
        "dfResultClassifier"
      ],
      "execution_count": 48,
      "outputs": [
        {
          "output_type": "execute_result",
          "data": {
            "text/html": [
              "<div>\n",
              "<style scoped>\n",
              "    .dataframe tbody tr th:only-of-type {\n",
              "        vertical-align: middle;\n",
              "    }\n",
              "\n",
              "    .dataframe tbody tr th {\n",
              "        vertical-align: top;\n",
              "    }\n",
              "\n",
              "    .dataframe thead th {\n",
              "        text-align: right;\n",
              "    }\n",
              "</style>\n",
              "<table border=\"1\" class=\"dataframe\">\n",
              "  <thead>\n",
              "    <tr style=\"text-align: right;\">\n",
              "      <th></th>\n",
              "      <th>Métodos</th>\n",
              "      <th>Média</th>\n",
              "      <th>STD</th>\n",
              "      <th>Limite Inferior</th>\n",
              "      <th>Limite Superior</th>\n",
              "    </tr>\n",
              "  </thead>\n",
              "  <tbody>\n",
              "    <tr>\n",
              "      <th>0</th>\n",
              "      <td>Baggind</td>\n",
              "      <td>0.957822</td>\n",
              "      <td>0.0247072</td>\n",
              "      <td>0.94898</td>\n",
              "      <td>0.966663</td>\n",
              "    </tr>\n",
              "    <tr>\n",
              "      <th>1</th>\n",
              "      <td>Adaboost</td>\n",
              "      <td>0.967784</td>\n",
              "      <td>0.0235731</td>\n",
              "      <td>0.959349</td>\n",
              "      <td>0.976219</td>\n",
              "    </tr>\n",
              "    <tr>\n",
              "      <th>2</th>\n",
              "      <td>RandomForest</td>\n",
              "      <td>0.956036</td>\n",
              "      <td>0.0247908</td>\n",
              "      <td>0.947165</td>\n",
              "      <td>0.964907</td>\n",
              "    </tr>\n",
              "    <tr>\n",
              "      <th>3</th>\n",
              "      <td>Heterogeneous</td>\n",
              "      <td>0.951942</td>\n",
              "      <td>0.0272276</td>\n",
              "      <td>0.942199</td>\n",
              "      <td>0.961685</td>\n",
              "    </tr>\n",
              "  </tbody>\n",
              "</table>\n",
              "</div>"
            ],
            "text/plain": [
              "         Métodos     Média        STD Limite Inferior Limite Superior\n",
              "0        Baggind  0.957822  0.0247072         0.94898        0.966663\n",
              "1       Adaboost  0.967784  0.0235731        0.959349        0.976219\n",
              "2   RandomForest  0.956036  0.0247908        0.947165        0.964907\n",
              "3  Heterogeneous  0.951942  0.0272276        0.942199        0.961685"
            ]
          },
          "metadata": {
            "tags": []
          },
          "execution_count": 48
        }
      ]
    },
    {
      "cell_type": "code",
      "metadata": {
        "colab": {
          "base_uri": "https://localhost:8080/",
          "height": 542
        },
        "id": "z4tR-_SEcIVK",
        "outputId": "28647188-bc70-49c5-bb4c-dece03bb0369"
      },
      "source": [
        "import plotly.graph_objects as go\n",
        "scores = [bagScores, adaScores, rfScores, hpScores]\n",
        "scoresNames = ['Bagging', 'AdaBoost', 'RandomForest', 'Heterogeneous Polling']\n",
        "fig = go.Figure()\n",
        "for i in range(len(scores)):\n",
        "  fig.add_trace(go.Box(y=scores[i], name=scoresNames[i]))\n",
        "fig.update_layout(\n",
        "    yaxis_title='Acc',\n",
        "    xaxis_title='Modelos',\n",
        "    title='Breast Cancer - Desempenho dos Modelos  - Acurácia',\n",
        ")\n",
        "fig.show()"
      ],
      "execution_count": 49,
      "outputs": [
        {
          "output_type": "display_data",
          "data": {
            "text/html": [
              "<html>\n",
              "<head><meta charset=\"utf-8\" /></head>\n",
              "<body>\n",
              "    <div>\n",
              "            <script src=\"https://cdnjs.cloudflare.com/ajax/libs/mathjax/2.7.5/MathJax.js?config=TeX-AMS-MML_SVG\"></script><script type=\"text/javascript\">if (window.MathJax) {MathJax.Hub.Config({SVG: {font: \"STIX-Web\"}});}</script>\n",
              "                <script type=\"text/javascript\">window.PlotlyConfig = {MathJaxConfig: 'local'};</script>\n",
              "        <script src=\"https://cdn.plot.ly/plotly-latest.min.js\"></script>    \n",
              "            <div id=\"214ceb3f-c8b1-487e-ae17-eef4c35ca1f0\" class=\"plotly-graph-div\" style=\"height:525px; width:100%;\"></div>\n",
              "            <script type=\"text/javascript\">\n",
              "                \n",
              "                    window.PLOTLYENV=window.PLOTLYENV || {};\n",
              "                    \n",
              "                if (document.getElementById(\"214ceb3f-c8b1-487e-ae17-eef4c35ca1f0\")) {\n",
              "                    Plotly.newPlot(\n",
              "                        '214ceb3f-c8b1-487e-ae17-eef4c35ca1f0',\n",
              "                        [{\"name\": \"Bagging\", \"type\": \"box\", \"y\": [0.9824561403508771, 0.9298245614035088, 0.9473684210526315, 0.9649122807017544, 1.0, 0.8947368421052632, 0.9649122807017544, 0.9649122807017544, 0.9649122807017544, 1.0, 0.9649122807017544, 0.9473684210526315, 1.0, 0.9298245614035088, 0.9473684210526315, 0.9824561403508771, 0.9473684210526315, 0.9649122807017544, 0.9298245614035088, 0.9464285714285714, 0.9649122807017544, 0.9473684210526315, 0.9122807017543859, 0.9473684210526315, 0.9649122807017544, 0.9824561403508771, 0.9649122807017544, 0.9824561403508771, 0.9649122807017544, 0.9285714285714286]}, {\"name\": \"AdaBoost\", \"type\": \"box\", \"y\": [0.9824561403508771, 0.9824561403508771, 0.9649122807017544, 0.9649122807017544, 1.0, 0.9122807017543859, 1.0, 0.9649122807017544, 0.9298245614035088, 0.9821428571428571, 0.9824561403508771, 0.9824561403508771, 1.0, 0.9473684210526315, 1.0, 0.9824561403508771, 0.9298245614035088, 0.9649122807017544, 0.9298245614035088, 0.9642857142857143, 0.9649122807017544, 0.9473684210526315, 0.9473684210526315, 0.9473684210526315, 0.9473684210526315, 1.0, 0.9824561403508771, 0.9824561403508771, 0.9824561403508771, 0.9642857142857143]}, {\"name\": \"RandomForest\", \"type\": \"box\", \"y\": [0.9824561403508771, 0.9298245614035088, 0.9473684210526315, 0.9649122807017544, 0.9824561403508771, 0.9298245614035088, 0.9824561403508771, 0.9824561403508771, 0.9298245614035088, 0.9285714285714286, 0.9649122807017544, 0.9649122807017544, 1.0, 0.8947368421052632, 0.9649122807017544, 0.9824561403508771, 0.9298245614035088, 0.9649122807017544, 0.9298245614035088, 0.9642857142857143, 0.9824561403508771, 0.9473684210526315, 0.9649122807017544, 0.9122807017543859, 0.9824561403508771, 0.9649122807017544, 0.9473684210526315, 0.9649122807017544, 0.9649122807017544, 0.9285714285714286]}, {\"name\": \"Heterogeneous Polling\", \"type\": \"box\", \"y\": [1.0, 0.9298245614035088, 0.9473684210526315, 0.9122807017543859, 0.9649122807017544, 0.9298245614035088, 0.9649122807017544, 0.9824561403508771, 0.9473684210526315, 0.9642857142857143, 0.9473684210526315, 1.0, 0.9649122807017544, 0.9298245614035088, 0.9824561403508771, 0.9824561403508771, 0.9298245614035088, 0.9298245614035088, 0.8771929824561403, 0.9464285714285714, 0.9473684210526315, 0.9824561403508771, 0.9298245614035088, 0.9649122807017544, 0.9473684210526315, 0.9824561403508771, 0.9473684210526315, 0.9473684210526315, 0.9649122807017544, 0.9107142857142857]}],\n",
              "                        {\"template\": {\"data\": {\"bar\": [{\"error_x\": {\"color\": \"#2a3f5f\"}, \"error_y\": {\"color\": \"#2a3f5f\"}, \"marker\": {\"line\": {\"color\": \"#E5ECF6\", \"width\": 0.5}}, \"type\": \"bar\"}], \"barpolar\": [{\"marker\": {\"line\": {\"color\": \"#E5ECF6\", \"width\": 0.5}}, \"type\": \"barpolar\"}], \"carpet\": [{\"aaxis\": {\"endlinecolor\": \"#2a3f5f\", \"gridcolor\": \"white\", \"linecolor\": \"white\", \"minorgridcolor\": \"white\", \"startlinecolor\": \"#2a3f5f\"}, \"baxis\": {\"endlinecolor\": \"#2a3f5f\", \"gridcolor\": \"white\", \"linecolor\": \"white\", \"minorgridcolor\": \"white\", \"startlinecolor\": \"#2a3f5f\"}, \"type\": \"carpet\"}], \"choropleth\": [{\"colorbar\": {\"outlinewidth\": 0, \"ticks\": \"\"}, \"type\": \"choropleth\"}], \"contour\": [{\"colorbar\": {\"outlinewidth\": 0, \"ticks\": \"\"}, \"colorscale\": [[0.0, \"#0d0887\"], [0.1111111111111111, \"#46039f\"], [0.2222222222222222, \"#7201a8\"], [0.3333333333333333, \"#9c179e\"], [0.4444444444444444, \"#bd3786\"], [0.5555555555555556, \"#d8576b\"], [0.6666666666666666, \"#ed7953\"], [0.7777777777777778, \"#fb9f3a\"], [0.8888888888888888, \"#fdca26\"], [1.0, \"#f0f921\"]], \"type\": \"contour\"}], \"contourcarpet\": [{\"colorbar\": {\"outlinewidth\": 0, \"ticks\": \"\"}, \"type\": \"contourcarpet\"}], \"heatmap\": [{\"colorbar\": {\"outlinewidth\": 0, \"ticks\": \"\"}, \"colorscale\": [[0.0, \"#0d0887\"], [0.1111111111111111, \"#46039f\"], [0.2222222222222222, \"#7201a8\"], [0.3333333333333333, \"#9c179e\"], [0.4444444444444444, \"#bd3786\"], [0.5555555555555556, \"#d8576b\"], [0.6666666666666666, \"#ed7953\"], [0.7777777777777778, \"#fb9f3a\"], [0.8888888888888888, \"#fdca26\"], [1.0, \"#f0f921\"]], \"type\": \"heatmap\"}], \"heatmapgl\": [{\"colorbar\": {\"outlinewidth\": 0, \"ticks\": \"\"}, \"colorscale\": [[0.0, \"#0d0887\"], [0.1111111111111111, \"#46039f\"], [0.2222222222222222, \"#7201a8\"], [0.3333333333333333, \"#9c179e\"], [0.4444444444444444, \"#bd3786\"], [0.5555555555555556, \"#d8576b\"], [0.6666666666666666, \"#ed7953\"], [0.7777777777777778, \"#fb9f3a\"], [0.8888888888888888, \"#fdca26\"], [1.0, \"#f0f921\"]], \"type\": \"heatmapgl\"}], \"histogram\": [{\"marker\": {\"colorbar\": {\"outlinewidth\": 0, \"ticks\": \"\"}}, \"type\": \"histogram\"}], \"histogram2d\": [{\"colorbar\": {\"outlinewidth\": 0, \"ticks\": \"\"}, \"colorscale\": [[0.0, \"#0d0887\"], [0.1111111111111111, \"#46039f\"], [0.2222222222222222, \"#7201a8\"], [0.3333333333333333, \"#9c179e\"], [0.4444444444444444, \"#bd3786\"], [0.5555555555555556, \"#d8576b\"], [0.6666666666666666, \"#ed7953\"], [0.7777777777777778, \"#fb9f3a\"], [0.8888888888888888, \"#fdca26\"], [1.0, \"#f0f921\"]], \"type\": \"histogram2d\"}], \"histogram2dcontour\": [{\"colorbar\": {\"outlinewidth\": 0, \"ticks\": \"\"}, \"colorscale\": [[0.0, \"#0d0887\"], [0.1111111111111111, \"#46039f\"], [0.2222222222222222, \"#7201a8\"], [0.3333333333333333, \"#9c179e\"], [0.4444444444444444, \"#bd3786\"], [0.5555555555555556, \"#d8576b\"], [0.6666666666666666, \"#ed7953\"], [0.7777777777777778, \"#fb9f3a\"], [0.8888888888888888, \"#fdca26\"], [1.0, \"#f0f921\"]], \"type\": \"histogram2dcontour\"}], \"mesh3d\": [{\"colorbar\": {\"outlinewidth\": 0, \"ticks\": \"\"}, \"type\": \"mesh3d\"}], \"parcoords\": [{\"line\": {\"colorbar\": {\"outlinewidth\": 0, \"ticks\": \"\"}}, \"type\": \"parcoords\"}], \"pie\": [{\"automargin\": true, \"type\": \"pie\"}], \"scatter\": [{\"marker\": {\"colorbar\": {\"outlinewidth\": 0, \"ticks\": \"\"}}, \"type\": \"scatter\"}], \"scatter3d\": [{\"line\": {\"colorbar\": {\"outlinewidth\": 0, \"ticks\": \"\"}}, \"marker\": {\"colorbar\": {\"outlinewidth\": 0, \"ticks\": \"\"}}, \"type\": \"scatter3d\"}], \"scattercarpet\": [{\"marker\": {\"colorbar\": {\"outlinewidth\": 0, \"ticks\": \"\"}}, \"type\": \"scattercarpet\"}], \"scattergeo\": [{\"marker\": {\"colorbar\": {\"outlinewidth\": 0, \"ticks\": \"\"}}, \"type\": \"scattergeo\"}], \"scattergl\": [{\"marker\": {\"colorbar\": {\"outlinewidth\": 0, \"ticks\": \"\"}}, \"type\": \"scattergl\"}], \"scattermapbox\": [{\"marker\": {\"colorbar\": {\"outlinewidth\": 0, \"ticks\": \"\"}}, \"type\": \"scattermapbox\"}], \"scatterpolar\": [{\"marker\": {\"colorbar\": {\"outlinewidth\": 0, \"ticks\": \"\"}}, \"type\": \"scatterpolar\"}], \"scatterpolargl\": [{\"marker\": {\"colorbar\": {\"outlinewidth\": 0, \"ticks\": \"\"}}, \"type\": \"scatterpolargl\"}], \"scatterternary\": [{\"marker\": {\"colorbar\": {\"outlinewidth\": 0, \"ticks\": \"\"}}, \"type\": \"scatterternary\"}], \"surface\": [{\"colorbar\": {\"outlinewidth\": 0, \"ticks\": \"\"}, \"colorscale\": [[0.0, \"#0d0887\"], [0.1111111111111111, \"#46039f\"], [0.2222222222222222, \"#7201a8\"], [0.3333333333333333, \"#9c179e\"], [0.4444444444444444, \"#bd3786\"], [0.5555555555555556, \"#d8576b\"], [0.6666666666666666, \"#ed7953\"], [0.7777777777777778, \"#fb9f3a\"], [0.8888888888888888, \"#fdca26\"], [1.0, \"#f0f921\"]], \"type\": \"surface\"}], \"table\": [{\"cells\": {\"fill\": {\"color\": \"#EBF0F8\"}, \"line\": {\"color\": \"white\"}}, \"header\": {\"fill\": {\"color\": \"#C8D4E3\"}, \"line\": {\"color\": \"white\"}}, \"type\": \"table\"}]}, \"layout\": {\"annotationdefaults\": {\"arrowcolor\": \"#2a3f5f\", \"arrowhead\": 0, \"arrowwidth\": 1}, \"coloraxis\": {\"colorbar\": {\"outlinewidth\": 0, \"ticks\": \"\"}}, \"colorscale\": {\"diverging\": [[0, \"#8e0152\"], [0.1, \"#c51b7d\"], [0.2, \"#de77ae\"], [0.3, \"#f1b6da\"], [0.4, \"#fde0ef\"], [0.5, \"#f7f7f7\"], [0.6, \"#e6f5d0\"], [0.7, \"#b8e186\"], [0.8, \"#7fbc41\"], [0.9, \"#4d9221\"], [1, \"#276419\"]], \"sequential\": [[0.0, \"#0d0887\"], [0.1111111111111111, \"#46039f\"], [0.2222222222222222, \"#7201a8\"], [0.3333333333333333, \"#9c179e\"], [0.4444444444444444, \"#bd3786\"], [0.5555555555555556, \"#d8576b\"], [0.6666666666666666, \"#ed7953\"], [0.7777777777777778, \"#fb9f3a\"], [0.8888888888888888, \"#fdca26\"], [1.0, \"#f0f921\"]], \"sequentialminus\": [[0.0, \"#0d0887\"], [0.1111111111111111, \"#46039f\"], [0.2222222222222222, \"#7201a8\"], [0.3333333333333333, \"#9c179e\"], [0.4444444444444444, \"#bd3786\"], [0.5555555555555556, \"#d8576b\"], [0.6666666666666666, \"#ed7953\"], [0.7777777777777778, \"#fb9f3a\"], [0.8888888888888888, \"#fdca26\"], [1.0, \"#f0f921\"]]}, \"colorway\": [\"#636efa\", \"#EF553B\", \"#00cc96\", \"#ab63fa\", \"#FFA15A\", \"#19d3f3\", \"#FF6692\", \"#B6E880\", \"#FF97FF\", \"#FECB52\"], \"font\": {\"color\": \"#2a3f5f\"}, \"geo\": {\"bgcolor\": \"white\", \"lakecolor\": \"white\", \"landcolor\": \"#E5ECF6\", \"showlakes\": true, \"showland\": true, \"subunitcolor\": \"white\"}, \"hoverlabel\": {\"align\": \"left\"}, \"hovermode\": \"closest\", \"mapbox\": {\"style\": \"light\"}, \"paper_bgcolor\": \"white\", \"plot_bgcolor\": \"#E5ECF6\", \"polar\": {\"angularaxis\": {\"gridcolor\": \"white\", \"linecolor\": \"white\", \"ticks\": \"\"}, \"bgcolor\": \"#E5ECF6\", \"radialaxis\": {\"gridcolor\": \"white\", \"linecolor\": \"white\", \"ticks\": \"\"}}, \"scene\": {\"xaxis\": {\"backgroundcolor\": \"#E5ECF6\", \"gridcolor\": \"white\", \"gridwidth\": 2, \"linecolor\": \"white\", \"showbackground\": true, \"ticks\": \"\", \"zerolinecolor\": \"white\"}, \"yaxis\": {\"backgroundcolor\": \"#E5ECF6\", \"gridcolor\": \"white\", \"gridwidth\": 2, \"linecolor\": \"white\", \"showbackground\": true, \"ticks\": \"\", \"zerolinecolor\": \"white\"}, \"zaxis\": {\"backgroundcolor\": \"#E5ECF6\", \"gridcolor\": \"white\", \"gridwidth\": 2, \"linecolor\": \"white\", \"showbackground\": true, \"ticks\": \"\", \"zerolinecolor\": \"white\"}}, \"shapedefaults\": {\"line\": {\"color\": \"#2a3f5f\"}}, \"ternary\": {\"aaxis\": {\"gridcolor\": \"white\", \"linecolor\": \"white\", \"ticks\": \"\"}, \"baxis\": {\"gridcolor\": \"white\", \"linecolor\": \"white\", \"ticks\": \"\"}, \"bgcolor\": \"#E5ECF6\", \"caxis\": {\"gridcolor\": \"white\", \"linecolor\": \"white\", \"ticks\": \"\"}}, \"title\": {\"x\": 0.05}, \"xaxis\": {\"automargin\": true, \"gridcolor\": \"white\", \"linecolor\": \"white\", \"ticks\": \"\", \"title\": {\"standoff\": 15}, \"zerolinecolor\": \"white\", \"zerolinewidth\": 2}, \"yaxis\": {\"automargin\": true, \"gridcolor\": \"white\", \"linecolor\": \"white\", \"ticks\": \"\", \"title\": {\"standoff\": 15}, \"zerolinecolor\": \"white\", \"zerolinewidth\": 2}}}, \"title\": {\"text\": \"Breast Cancer - Desempenho dos Modelos  - Acur\\u00e1cia\"}, \"xaxis\": {\"title\": {\"text\": \"Modelos\"}}, \"yaxis\": {\"title\": {\"text\": \"Acc\"}}},\n",
              "                        {\"responsive\": true}\n",
              "                    ).then(function(){\n",
              "                            \n",
              "var gd = document.getElementById('214ceb3f-c8b1-487e-ae17-eef4c35ca1f0');\n",
              "var x = new MutationObserver(function (mutations, observer) {{\n",
              "        var display = window.getComputedStyle(gd).display;\n",
              "        if (!display || display === 'none') {{\n",
              "            console.log([gd, 'removed!']);\n",
              "            Plotly.purge(gd);\n",
              "            observer.disconnect();\n",
              "        }}\n",
              "}});\n",
              "\n",
              "// Listen for the removal of the full notebook cells\n",
              "var notebookContainer = gd.closest('#notebook-container');\n",
              "if (notebookContainer) {{\n",
              "    x.observe(notebookContainer, {childList: true});\n",
              "}}\n",
              "\n",
              "// Listen for the clearing of the current output cell\n",
              "var outputEl = gd.closest('.output');\n",
              "if (outputEl) {{\n",
              "    x.observe(outputEl, {childList: true});\n",
              "}}\n",
              "\n",
              "                        })\n",
              "                };\n",
              "                \n",
              "            </script>\n",
              "        </div>\n",
              "</body>\n",
              "</html>"
            ]
          },
          "metadata": {
            "tags": []
          }
        }
      ]
    },
    {
      "cell_type": "markdown",
      "metadata": {
        "id": "igwTivmPcIVJ"
      },
      "source": [
        "## Teste Pareado"
      ]
    },
    {
      "cell_type": "code",
      "metadata": {
        "colab": {
          "base_uri": "https://localhost:8080/",
          "height": 785
        },
        "id": "GEN0z3uZcIVJ",
        "outputId": "c98aca8c-9bac-41d0-c07d-4740936031cc"
      },
      "source": [
        "from scipy.stats import ttest_rel, wilcoxon\n",
        "scores = [bagScores, adaScores, rfScores, hpScores]\n",
        "scoresNames = ['Bagging', 'AdaBoost', 'RandomForest', 'Heterogeneous Polling']\n",
        "dfPairTest = pd.DataFrame(columns=[0,1,2,3])\n",
        "for i in range(len(scores)):\n",
        "  for j in range(len(scores)):\n",
        "    if j == i:\n",
        "       dfPairTest.at[i, j] = scoresNames[i]\n",
        "    \n",
        "    if j > i:\n",
        "      print('Paired T Test', scoresNames[i], scoresNames[j])\n",
        "      s,p = ttest_rel(scores[i],scores[j])\n",
        "      print(\"t: %0.2f p-value: %0.8f\\n\" % (s,p))\n",
        "      dfPairTest.at[i, j] = p\n",
        "      # dfPairTest.iloc[i][j] = p\n",
        "    # print(\"t:\",(s,p))\n",
        "\n",
        "    if j < i :\n",
        "      print ('Wilcoxon Test', scoresNames[i], scoresNames[j])\n",
        "      s,p = wilcoxon (scores[i],scores[j])\n",
        "      print(\"w: %0.2f p-value: %0.8f\\n\" % (s,p))\n",
        "      dfPairTest.at[i, j] = p\n",
        "      # dfPairTest.iloc[i][j] = p\n",
        "# print(\"w: \",  (s,p))\n",
        "dfPairTest.columns = ['T1','T2','T3','T4']\n",
        "dfPairTest.index = ['w1', 'w2', 'w3', 'w4']\n",
        "dfPairTest"
      ],
      "execution_count": 50,
      "outputs": [
        {
          "output_type": "stream",
          "text": [
            "Paired T Test Bagging AdaBoost\n",
            "t: -2.66 p-value: 0.01248827\n",
            "\n",
            "Paired T Test Bagging RandomForest\n",
            "t: 0.41 p-value: 0.68393338\n",
            "\n",
            "Paired T Test Bagging Heterogeneous Polling\n",
            "t: 1.21 p-value: 0.23631385\n",
            "\n",
            "Wilcoxon Test AdaBoost Bagging\n",
            "w: 35.50 p-value: 0.02848511\n",
            "\n",
            "Paired T Test AdaBoost RandomForest\n",
            "t: 2.82 p-value: 0.00854613\n",
            "\n",
            "Paired T Test AdaBoost Heterogeneous Polling\n",
            "t: 3.47 p-value: 0.00165218\n",
            "\n",
            "Wilcoxon Test RandomForest Bagging\n",
            "w: 78.50 p-value: 0.75835888\n",
            "\n",
            "Wilcoxon Test RandomForest AdaBoost\n",
            "w: 39.00 p-value: 0.01312233\n",
            "\n",
            "Paired T Test RandomForest Heterogeneous Polling\n",
            "t: 0.81 p-value: 0.42258783\n",
            "\n",
            "Wilcoxon Test Heterogeneous Polling Bagging\n",
            "w: 87.00 p-value: 0.19538198\n",
            "\n",
            "Wilcoxon Test Heterogeneous Polling AdaBoost\n",
            "w: 63.50 p-value: 0.00239813\n",
            "\n",
            "Wilcoxon Test Heterogeneous Polling RandomForest\n",
            "w: 99.50 p-value: 0.37714359\n",
            "\n"
          ],
          "name": "stdout"
        },
        {
          "output_type": "execute_result",
          "data": {
            "text/html": [
              "<div>\n",
              "<style scoped>\n",
              "    .dataframe tbody tr th:only-of-type {\n",
              "        vertical-align: middle;\n",
              "    }\n",
              "\n",
              "    .dataframe tbody tr th {\n",
              "        vertical-align: top;\n",
              "    }\n",
              "\n",
              "    .dataframe thead th {\n",
              "        text-align: right;\n",
              "    }\n",
              "</style>\n",
              "<table border=\"1\" class=\"dataframe\">\n",
              "  <thead>\n",
              "    <tr style=\"text-align: right;\">\n",
              "      <th></th>\n",
              "      <th>T1</th>\n",
              "      <th>T2</th>\n",
              "      <th>T3</th>\n",
              "      <th>T4</th>\n",
              "    </tr>\n",
              "  </thead>\n",
              "  <tbody>\n",
              "    <tr>\n",
              "      <th>w1</th>\n",
              "      <td>Bagging</td>\n",
              "      <td>0.0124883</td>\n",
              "      <td>0.683933</td>\n",
              "      <td>0.236314</td>\n",
              "    </tr>\n",
              "    <tr>\n",
              "      <th>w2</th>\n",
              "      <td>0.0284851</td>\n",
              "      <td>AdaBoost</td>\n",
              "      <td>0.00854613</td>\n",
              "      <td>0.00165218</td>\n",
              "    </tr>\n",
              "    <tr>\n",
              "      <th>w3</th>\n",
              "      <td>0.758359</td>\n",
              "      <td>0.0131223</td>\n",
              "      <td>RandomForest</td>\n",
              "      <td>0.422588</td>\n",
              "    </tr>\n",
              "    <tr>\n",
              "      <th>w4</th>\n",
              "      <td>0.195382</td>\n",
              "      <td>0.00239813</td>\n",
              "      <td>0.377144</td>\n",
              "      <td>Heterogeneous Polling</td>\n",
              "    </tr>\n",
              "  </tbody>\n",
              "</table>\n",
              "</div>"
            ],
            "text/plain": [
              "           T1          T2            T3                     T4\n",
              "w1    Bagging   0.0124883      0.683933               0.236314\n",
              "w2  0.0284851    AdaBoost    0.00854613             0.00165218\n",
              "w3   0.758359   0.0131223  RandomForest               0.422588\n",
              "w4   0.195382  0.00239813      0.377144  Heterogeneous Polling"
            ]
          },
          "metadata": {
            "tags": []
          },
          "execution_count": 50
        }
      ]
    },
    {
      "cell_type": "markdown",
      "metadata": {
        "id": "89_xLZgXuMKX"
      },
      "source": [
        "*Primeiro Trabalho de Inteligência Artificial e Sistemas Inteligentes*\n",
        "\n",
        "*André Paulo F. Machado*\n",
        "\n",
        "Este trabalho consiste em realizar uma comparação experimental entre um conjunto pré-definido de técnicas de aprendizado para classificação automática, baseadas na ideia de combinados de classificadores, aplicadas a alguns problemas de classificação. As técnicas escolhidas são: Bagging, AdaBoost, RandomForest e HeterogeneousPooling.\n",
        "\n",
        "As bases de dados utilizadas são digits, wine e breast cancer."
      ]
    }
  ]
}
